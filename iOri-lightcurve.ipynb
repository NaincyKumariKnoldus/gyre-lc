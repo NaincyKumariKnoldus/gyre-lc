{
 "cells": [
  {
   "cell_type": "code",
   "execution_count": 1,
   "metadata": {
    "ExecuteTime": {
     "end_time": "2021-07-06T15:43:35.413819Z",
     "start_time": "2021-07-06T15:43:34.137120Z"
    }
   },
   "outputs": [],
   "source": [
    "# Import pymsg\n",
    "\n",
    "import sys\n",
    "import os\n",
    "sys.path.insert(0, os.path.join(os.environ['MSG_DIR'], 'lib'))\n",
    "import pymsg\n",
    "\n",
    "# Import standard modules and configure them\n",
    "\n",
    "import numpy as np\n",
    "import matplotlib.pyplot as plt\n",
    "\n",
    "%matplotlib inline\n",
    "plt.rcParams.update({'font.size': 16})"
   ]
  },
  {
   "cell_type": "code",
   "execution_count": 2,
   "metadata": {
    "ExecuteTime": {
     "end_time": "2021-07-06T15:43:48.784668Z",
     "start_time": "2021-07-06T15:43:38.391777Z"
    }
   },
   "outputs": [],
   "source": [
    "import h5py\n",
    "from scipy import interpolate as inp\n",
    "from scipy.integrate import quad as integrate\n",
    "from scipy.special import legendre, lpmv, sph_harm\n",
    "from scipy.optimize import fsolve\n",
    "\n",
    "import f90nml as nml\n",
    "from shutil import copyfile\n",
    "\n",
    "from PyAstronomy import pyasl\n",
    "from astropy.io import ascii\n",
    "import ipywidgets as ipw"
   ]
  },
  {
   "cell_type": "code",
   "execution_count": 3,
   "metadata": {
    "ExecuteTime": {
     "end_time": "2021-07-06T15:43:50.146726Z",
     "start_time": "2021-07-06T15:43:49.828049Z"
    }
   },
   "outputs": [],
   "source": [
    "pg = pymsg.PhotGrid('pg-demo-kepler.h5')"
   ]
  },
  {
   "cell_type": "code",
   "execution_count": 4,
   "metadata": {
    "ExecuteTime": {
     "end_time": "2021-07-06T15:43:55.089904Z",
     "start_time": "2021-07-06T15:43:55.074809Z"
    }
   },
   "outputs": [],
   "source": [
    "# must have atm_coeffs.py and resp_coeffs.py \n",
    "# in notebook directory\n",
    "\n",
    "import atm_coeffs as ac\n",
    "import resp_coeffs as rc"
   ]
  },
  {
   "cell_type": "code",
   "execution_count": 5,
   "metadata": {
    "ExecuteTime": {
     "end_time": "2021-07-06T15:43:57.325646Z",
     "start_time": "2021-07-06T15:43:57.152853Z"
    }
   },
   "outputs": [],
   "source": [
    "atms = ac.atm_coeffs('lc-data/iOri-partials.h5')"
   ]
  },
  {
   "cell_type": "code",
   "execution_count": 8,
   "metadata": {
    "ExecuteTime": {
     "end_time": "2021-06-17T15:07:14.362728Z",
     "start_time": "2021-06-17T15:07:14.352535Z"
    }
   },
   "outputs": [],
   "source": [
    "def read_johnson_filter (filter_path, w_0, dw, n_w):\n",
    "    \n",
    "    f = open(filter_path, \"r\") \n",
    "    f_lines = f.readlines()\n",
    "    f.close()\n",
    "    \n",
    "    # Evaluate the center wavelength of the bins\n",
    "\n",
    "    w_range = w_0 + 0.5*dw + np.arange(n_w)*dw\n",
    "    \n",
    "    # Read wavelengths and convert from nm to w=log(Angstroms)\n",
    "    \n",
    "    w = np.log(10.0*np.array([float(i.split()[0]) for i in f_lines[1:-1]])[::-1])\n",
    "    \n",
    "    # Read filter response and convert from percentage to decimal\n",
    "    \n",
    "    response = 1.0e-2*np.array([float(i.split()[1]) for i in f_lines[1:-1]])[::-1]\n",
    "    \n",
    "    # Interpolate respone function onto spectral abscissa\n",
    "    \n",
    "    filter_func = inp.interp1d(\n",
    "        w, response, bounds_error=False, fill_value=0)\n",
    "    \n",
    "    filter_pass = filter_func( w_range )\n",
    "    \n",
    "    return filter_pass"
   ]
  },
  {
   "cell_type": "code",
   "execution_count": 9,
   "metadata": {
    "ExecuteTime": {
     "end_time": "2021-06-17T15:07:15.728177Z",
     "start_time": "2021-06-17T15:07:15.719643Z"
    }
   },
   "outputs": [],
   "source": [
    "##### Pass specific intensity through filter 'x'\n",
    "\n",
    "def eval_I_x (I_w, filter_path, w_0, dw, n_w, debug=False):\n",
    "   \n",
    "    # Read filter \n",
    "   \n",
    "    filter_pass = read_johnson_filter(filter_path, w_0, dw, n_w)\n",
    "   \n",
    "    # Pass specific intensity from angle mu through filter\n",
    "   \n",
    "    I_w_filter = np.multiply(I_w, filter_pass)\n",
    "    \n",
    "    # Evaluate spectral range\n",
    "    \n",
    "    w_range = w_0 + 0.5*dw + np.arange(n_w)*dw\n",
    "    \n",
    "    lambda_range = np.exp(w_range)\n",
    "    \n",
    "    # Convert flux from per-unit-w to per-unit-lambda\n",
    "    \n",
    "    I_filter = I_w_filter/lambda_range\n",
    "    \n",
    "    if debug==True:\n",
    "        \n",
    "        return I_filter\n",
    "    \n",
    "    else:\n",
    "    \n",
    "        I_x = np.trapz( I_filter, lambda_range )\n",
    "    \n",
    "        return I_x\n",
    "    "
   ]
  },
  {
   "cell_type": "code",
   "execution_count": 10,
   "metadata": {
    "ExecuteTime": {
     "end_time": "2021-06-17T15:07:16.795384Z",
     "start_time": "2021-06-17T15:07:16.780410Z"
    }
   },
   "outputs": [],
   "source": [
    "##### Extract from filtered intensity (colors) moment 'l'\n",
    "\n",
    "def eval_I_x_l (sg, dx, l_range, filter_path, w_0, dw, n_w, debug=False):\n",
    "    \n",
    "    # Construct high resolution abscissa to integrate over\n",
    "    \n",
    "    mu_range = np.linspace(0, 1, 3000)\n",
    "    \n",
    "    # Construct dixt of filtered intensity moments \n",
    "    \n",
    "    I_x_l = {}\n",
    "    dI_dlnT_x_l = {}\n",
    "    dI_dlng_x_l = {}\n",
    "    \n",
    "    # Construct I_x(mu)_i array shaped like N(mu_range)*N(l_range)\n",
    "    \n",
    "    for i, l in enumerate(l_range):\n",
    "        \n",
    "        # Evaluate I_x over all mu for moment l\n",
    "        \n",
    "        I_w_mu = [sg.intensity(dx, mu, w_0, n_w) for mu in mu_range]\n",
    "        dI_dlnT_w_mu = [sg.intensity(dx, mu, w_0, n_w, {'logT': True})*np.log10(np.e) for mu in mu_range]\n",
    "        dI_dlng_w_mu = [sg.intensity(dx, mu, w_0, n_w, {'logg': True})*np.log10(np.e) for mu in mu_range]\n",
    "    \n",
    "        I_x_mu = [eval_I_x( ii , filter_path, w_0, dw, n_w) for ii in I_w_mu]\n",
    "        dI_dlnT_x_mu = [eval_I_x( ii , filter_path, w_0, dw, n_w) for ii in dI_dlnT_w_mu]\n",
    "        dI_dlng_x_mu = [eval_I_x( ii , filter_path, w_0, dw, n_w) for ii in dI_dlng_w_mu]\n",
    "        \n",
    "        # Create legendre polynomial function for moment l\n",
    "\n",
    "        P = legendre(l)\n",
    "\n",
    "        # Find intensity moment I_x_l\n",
    "\n",
    "        I_x_l[l] = np.trapz(mu_range*I_x_mu*P(mu_range), mu_range)\n",
    "        dI_dlnT_x_l[l] = np.trapz(mu_range*dI_dlnT_x_mu*P(mu_range), mu_range)\n",
    "        dI_dlng_x_l[l] = np.trapz(mu_range*dI_dlng_x_mu*P(mu_range), mu_range)\n",
    "\n",
    "    return I_x_l, dI_dlnT_x_l, dI_dlng_x_l"
   ]
  },
  {
   "cell_type": "code",
   "execution_count": 11,
   "metadata": {
    "ExecuteTime": {
     "end_time": "2021-06-17T15:07:18.126668Z",
     "start_time": "2021-06-17T15:07:18.109302Z"
    },
    "code_folding": []
   },
   "outputs": [],
   "source": [
    "class star:\n",
    "    \n",
    "    def __init__ (self, list_path, star_number, x):\n",
    "        \n",
    "        # should check if 'inlist', this just checks 'str'\n",
    "        \n",
    "        if isinstance(list_path, str):\n",
    "            self.nml = nml.read(list_path)[f'star_{star_number}']\n",
    "        else: raise Exception('Inlist file error')\n",
    "            \n",
    "        self.par = self.read_mesa_params(self.nml['star_model_path'])\n",
    "        \n",
    "        self.res = rc.resp_coeffs(self.nml['tide_model_path'])\n",
    "        \n",
    "        self.atm = self.read_atm_coeffs(self.nml['star_model_path'], x)\n",
    "        \n",
    "            \n",
    "    def read_mesa_params(self, mesa_model_path, units='SOLAR'):\n",
    "        \n",
    "        data = ascii.read(mesa_model_path, data_start=0, data_end=1)\n",
    "        \n",
    "        # cgs constants\n",
    "        \n",
    "        R_sol = 6.957e10 \n",
    "        M_sol = 1.989e33\n",
    "        L_sol = 3.839e33\n",
    "        G = 6.674079999999999e-08 \n",
    "        sigma_sb = 5.6703669999999995e-05\n",
    "        \n",
    "        # data in cgs\n",
    "        \n",
    "        m = data[0][1]\n",
    "        r = data[0][2]\n",
    "        l = data[0][3]\n",
    "            \n",
    "        # calculate Teff [K], logg [dex]\n",
    "        \n",
    "        Teff = (l/(sigma_sb * 4*np.pi*r**2))**0.25\n",
    "        \n",
    "        g_surf = G*m/(r**2)\n",
    "        \n",
    "        logg = np.log10(g_surf)\n",
    "        \n",
    "        # convert to solar units\n",
    "        \n",
    "        if units=='SOLAR':\n",
    "            m = m/M_sol\n",
    "            r = r/R_sol\n",
    "            l = l/L_sol\n",
    "            \n",
    "        return {'M': m,\n",
    "                'R': r,\n",
    "                'L': l,\n",
    "                'Teff': Teff,\n",
    "                'logg': logg}\n",
    "            \n",
    "            \n",
    "    def read_atm_coeffs(self, inlist, x):\n",
    "        \n",
    "        # Set atmosphere parameters dict\n",
    "    \n",
    "        Teff = self.par['Teff']\n",
    "        logg = self.par['logg']\n",
    "\n",
    "        dx = {'logT': np.log10(Teff), 'logg': logg}\n",
    "        sg = pymsg.SpecGrid('sg-demo.h5')\n",
    "\n",
    "        # Set wavelength bounds\n",
    "\n",
    "        lambda_min = 3000.\n",
    "        lambda_max = 7000.\n",
    "\n",
    "        # Set up corresponding w bounds\n",
    "\n",
    "        w_min = np.log(lambda_min)\n",
    "        w_max = np.log(lambda_max)\n",
    "\n",
    "        # Set up spectral abscissa values\n",
    "\n",
    "        w_0 = w_min\n",
    "        dw = sg.dw\n",
    "        n_w = np.ceil((w_max - w_min)/dw)\n",
    "        \n",
    "        # Set up intensity moment range\n",
    "        \n",
    "        l_min = 0\n",
    "        dl = 1\n",
    "        l_max = self.res.data['l_max']\n",
    "        n_l = np.ceil( (l_max - l_min)/dl ) + 1\n",
    "\n",
    "        l_range = l_min + dl*np.arange(n_l)\n",
    "        \n",
    "        # Evaluate photometric data\n",
    "\n",
    "        I_x_l, dI_dlnT_x_l, dI_dlng_x_l = eval_I_x_l(sg, dx, l_range, '../filters/'+x+'.txt', w_0, dw, n_w)\n",
    "        \n",
    "        #atm = atm_coeffs(Teff,logg)\n",
    "        \n",
    "        #return ac.atm_coeffs('lc-data/iOri-partials.h5')\n",
    "        \n",
    "        return {f'I_{x}': I_x_l, f'dI_dlnT_{x}': dI_dlnT_x_l, f'dI_dlng_{x}': dI_dlng_x_l}"
   ]
  },
  {
   "cell_type": "code",
   "execution_count": 12,
   "metadata": {
    "ExecuteTime": {
     "end_time": "2021-06-17T15:07:20.328085Z",
     "start_time": "2021-06-17T15:07:20.315467Z"
    },
    "code_folding": []
   },
   "outputs": [],
   "source": [
    "class binary:\n",
    "    \n",
    "    def __init__ (self, list_path, x):\n",
    "        \n",
    "        # should check if 'inlist', this just checks 'str'\n",
    "        \n",
    "        if isinstance(list_path, str):\n",
    "            self.nml = nml.read(list_path)\n",
    "        else: raise Exception('Inlist file error')\n",
    "        \n",
    "        self.star = {1: star(list_path, 1, x),\\\n",
    "                     2: star(list_path, 2, x) }\n",
    "        \n",
    "        self.orbit = self.read_orbit(self.nml)\n",
    "            \n",
    "        \n",
    "    def read_orbit(self, inlist):\n",
    "        \n",
    "        orb_list = inlist['orbit']\n",
    "        \n",
    "        params = {}\n",
    "        \n",
    "        #placeholder unit routine\n",
    "        \n",
    "        if orb_list['omega_orb_units']=='CYC_PER_DAY':\n",
    "            omega_orb_units = 1 \n",
    "        else: omega_orb_units = 1\n",
    "        \n",
    "        if orb_list['a_units']=='CM':\n",
    "            a_units = 6.957e10 #cm per r_sol\n",
    "        else: a_units = 1\n",
    "            \n",
    "        # eventually, we want to get these from resp_data\n",
    "        # resp_data currently does not contain this output tho\n",
    "        \n",
    "        params['a'] = orb_list['a']*a_units\n",
    "        params['e'] = orb_list['e']\n",
    "        params['Omega_orb'] = orb_list['omega_orb']*omega_orb_units\n",
    "        \n",
    "        return params"
   ]
  },
  {
   "cell_type": "code",
   "execution_count": 13,
   "metadata": {
    "ExecuteTime": {
     "end_time": "2021-06-17T15:07:21.734983Z",
     "start_time": "2021-06-17T15:07:21.698450Z"
    },
    "code_folding": []
   },
   "outputs": [],
   "source": [
    "class irradiation:\n",
    "    \n",
    "    def __init__ (self, bin_data, star_number):\n",
    "        \n",
    "        # prep for find_bin_sep()\n",
    "        \n",
    "        self.e = bin_data.orbit['e']\n",
    "        self.a = bin_data.orbit['a']\n",
    "        self.Omega_orb = bin_data.orbit['Omega_orb']\n",
    "        \n",
    "        # prep for eval_irrad()\n",
    "        \n",
    "        if int(star_number)==1:\n",
    "            star_neighbor = 2\n",
    "        elif int(star_number)==2:\n",
    "            star_neighbor = 1\n",
    "        else:\n",
    "            raise Exception('Star unspecified')\n",
    "        \n",
    "        self.atm_data = bin_data.star[star_number].atm\n",
    "        self.res_data = bin_data.star[star_number].res.data\n",
    "        \n",
    "        self.L1 = bin_data.star[star_number].par['L']\n",
    "        self.R1 = bin_data.star[star_number].par['R']\n",
    "        self.L2 = bin_data.star[star_neighbor].par['L']\n",
    "        \n",
    "            \n",
    "    def eval_ramp (self, l, m):\n",
    "        \n",
    "        term1 = 2* np.sqrt( ((2*l+1)/(4*np.pi)) \\\n",
    "                           *(np.math.factorial(l-m)/np.math.factorial(l+m)) )\n",
    "        \n",
    "        if (np.abs(m)==1):\n",
    "            term2 = np.pi/2\n",
    "        else:\n",
    "            term2 = np.cos(m*np.pi/2)/(1-m**2)\n",
    "        \n",
    "        # Can I do this integral using symbolic mu, (as I do below)\n",
    "        # or should I stick to integrating only those mu which I have data for?\n",
    "        \n",
    "        term3, term3_err = integrate(lambda mu: np.sqrt(1-mu**2)*lpmv(m,l, mu), -1, 1)\n",
    "        \n",
    "        Z_lm = term1*term2*term3\n",
    "        \n",
    "        return Z_lm\n",
    "    \n",
    "    \n",
    "    def find_disk_intg_factor (self, l, x):\n",
    "        \n",
    "        # I still don't know if I need a bandpass correction, or if defining b_l\n",
    "        # using the bandpass corrected intensities (as I do here) is sufficient.\n",
    "    \n",
    "        b_l = self.atm_data[f'I_{x}'][l]/self.atm_data[f'I_{x}'][0]\n",
    "    \n",
    "        return b_l\n",
    "        \n",
    "    \n",
    "    def find_mean_anom (self, t, t_peri=0):\n",
    "        \n",
    "        return self.Omega_orb*(t - t_peri)*(2*np.pi)\n",
    "        \n",
    "    \n",
    "    def find_ecce_anom (self, M):\n",
    "    \n",
    "        K_soln = np.empty_like(M)\n",
    "        \n",
    "        for i, M_val in enumerate(M):\n",
    "            \n",
    "            Keppler = lambda E : E - self.e*np.sin(E) - M_val\n",
    "            K_soln[i] = fsolve(Keppler, 0)[0]\n",
    "        \n",
    "        return K_soln\n",
    "        \n",
    "    \n",
    "    def find_true_anom (self, E):\n",
    "    \n",
    "        return 2*np.arctan( ((1+self.e)/(1-self.e))*np.tan(E/2) )\n",
    "    \n",
    "    \n",
    "    def convert_t_to_f (self, t, t_peri=0):\n",
    "    \n",
    "        M = self.find_mean_anom(t, t_peri)\n",
    "        \n",
    "        E = self.find_ecce_anom(M)\n",
    "        \n",
    "        f = self.find_true_anom(E)\n",
    "        \n",
    "        return f\n",
    "    \n",
    "    \n",
    "    def find_bin_sep (self, t, t_peri=0):\n",
    "        \n",
    "        f = self.convert_t_to_f(t, t_peri)#* 2*np.pi\n",
    "        \n",
    "        D = self.a*(1-self.e**2)/(1+self.e*np.cos(f))\n",
    "        \n",
    "        return D\n",
    "    \n",
    "    \n",
    "    def find_irrad (self, x, t, t_peri=0):\n",
    "        \n",
    "        Dt = self.find_bin_sep(t, t_peri)\n",
    "        \n",
    "        #rel_dJm = np.zeros(self.res_data['l_max']+1, dtype=complex)\n",
    "        \n",
    "        rel_dJ = np.zeros_like(t)\n",
    "        \n",
    "        n_l = self.res_data['l_max']\n",
    "        \n",
    "        for l in range(2, n_l+1):\n",
    "            for m in range(-l, l+1):\n",
    "                \n",
    "                Z_lm = self.eval_ramp(l, m)\n",
    "                b_l = self.find_disk_intg_factor(l, x)\n",
    "                #rel_dJm[m] += b_l*Z_lm*(self.L2/self.L1)\n",
    "                rel_dJ += b_l*Z_lm*(self.L2/self.L1)*(self.R1/Dt)**2\n",
    "        \n",
    "        return rel_dJ\n",
    "        \n",
    "            #dJ/unperturbed_observed_flux \n",
    "            # = bandpass_correction_coefficient*(L2/L1)*(R1/D(t))**2\n",
    "            #   * disc_integral_factor_(Burkart_used_Eddington_limb_darkening)\n",
    "            "
   ]
  },
  {
   "cell_type": "code",
   "execution_count": 14,
   "metadata": {
    "ExecuteTime": {
     "end_time": "2021-06-17T15:07:22.609347Z",
     "start_time": "2021-06-17T15:07:22.588103Z"
    },
    "code_folding": []
   },
   "outputs": [],
   "source": [
    "class observer:\n",
    "    \n",
    "    def __init__ (self, list_path, x):\n",
    "        \n",
    "        if isinstance(list_path, str):\n",
    "            self.nml = nml.read(list_path)\n",
    "        else: raise Exception('Inlist file error')\n",
    "    \n",
    "        self.bin_data = binary(list_path, x)\n",
    "        \n",
    "        self.irr = {1: irradiation(self.bin_data, 1),\\\n",
    "                    2: irradiation(self.bin_data, 2)}\n",
    "        \n",
    "    \n",
    "    def convert_coords (self, inc, omega):\n",
    "\n",
    "        theta = inc/180 * np.pi\n",
    "        phi = (90-omega)/180 * np.pi\n",
    "        \n",
    "        return theta, phi\n",
    "        \n",
    "    \n",
    "    def calc_bol_I (self, I_0, l):\n",
    "        \n",
    "        if l == 0:\n",
    "            I_l = 1\n",
    "        elif l == 1:\n",
    "            I_l = 1/3\n",
    "        elif l == 2:\n",
    "            I_l = 1/8\n",
    "        elif l == 3:\n",
    "            I_l = 0\n",
    "        elif l == 4:\n",
    "            I_l = -1/48\n",
    "        elif l == 5:\n",
    "            I_l = 0\n",
    "        elif l == 6:\n",
    "            I_l = 1/128\n",
    "        else:\n",
    "            raise Exception('No I_l defined')\n",
    "            \n",
    "        return I_l*I_0\n",
    "            \n",
    "    \n",
    "    def eval_fourier (self, star_number, inc, omega, x, bol=False):\n",
    "        \n",
    "        res = self.bin_data.star[star_number].res\n",
    "        atm = self.bin_data.star[star_number].atm\n",
    "        \n",
    "        theta, phi = self.convert_coords(inc, omega)\n",
    "        \n",
    "        # Initialize the frequencies/amplitudes arrays\n",
    "        \n",
    "        f = np.arange(res.data['k_max']+1)*res.data['Omega_orb']\n",
    "        \n",
    "        A = np.zeros(res.data['k_max']+1, dtype=complex)\n",
    "            \n",
    "\n",
    "        # Loop over l, m and k\n",
    "        I = atm\n",
    "    \n",
    "        for l in range(2, res.data['l_max']+1):\n",
    "            for m in range(-l, l+1):\n",
    "                for k in range(0, res.data['k_max']+1):\n",
    "\n",
    "                    i_l = l\n",
    "                    i_m = m + res.data['l_max']\n",
    "                    i_k = k\n",
    "\n",
    "                    dR_lmk = res.R_lmk[i_l,i_m,i_k]\n",
    "                    dT_lmk = res.T_lmk[i_l,i_m,i_k]\n",
    "                    dG_lmk = res.G_lmk[i_l,i_m,i_k]\n",
    "\n",
    "                    Y_lm = sph_harm(m, l, phi, theta)\n",
    "                    \n",
    "                    R_xl = (2 + l)*(1 - l)*I[f'I_{x}'][l] / I[f'I_{x}'][0]\n",
    "                    T_xl = I[f'dI_dlnT_{x}'][l] / I[f'I_{x}'][0] \n",
    "                    G_xl = I[f'dI_dlng_{x}'][l] / I[f'I_{x}'][0]\n",
    "                    \n",
    "                    if bol==True:\n",
    "                        I_l = self.calc_bol_I( I[f'I_{x}'][0], l)\n",
    "                        R_xl = (2 + l)*(1 - l)*I_l / I[f'I_{x}'][0]\n",
    "                        T_xl = 4*I_l / I[f'I_{x}'][0]\n",
    "                        G_xl = 0\n",
    "                    \n",
    "                    if k == 0:\n",
    "                        if m == 0:\n",
    "                            kappa = 0.5\n",
    "                        elif m >= 1:\n",
    "                            kappa = 1.\n",
    "                        else:\n",
    "                            kappa = 0.\n",
    "                    else:\n",
    "                        kappa = 1.\n",
    "    \n",
    "                    # Add the Fourier contribution * spherical harmonic\n",
    "                    \n",
    "                    A[i_k] += 2*kappa*(dR_lmk*R_xl + dT_lmk*T_xl + dG_lmk*G_xl)*Y_lm\n",
    "        \n",
    "        # Return data\n",
    "        \n",
    "        return f, A\n",
    "    \n",
    "\n",
    "    def find_star_flux (self, star_number, inc, omega, x, t, t_peri=0, bol=False):\n",
    "        \n",
    "        res = self.bin_data.star[star_number].res\n",
    "        Omega_orb = self.bin_data.orbit['Omega_orb']\n",
    "        \n",
    "        f, A = self.eval_fourier(star_number, inc, omega, x, bol)\n",
    "        \n",
    "        # Initialize the frequencies/amplitudes arrays\n",
    "        \n",
    "        if isinstance(t, np.ndarray):\n",
    "            \n",
    "            star_flux = np.zeros_like(t)\n",
    "        \n",
    "        elif isinstance(t, list):\n",
    "            \n",
    "            t = np.array(t)\n",
    "            star_flux = np.zeros_like(t)\n",
    "            \n",
    "        else: #How to isinstance any mathable t? float, int, etc?\n",
    "            \n",
    "            star_flux = 0.\n",
    "\n",
    "        # Add contributions from each frequency component\n",
    "\n",
    "        n_A = len(A)\n",
    "\n",
    "        for i in range(n_A):\n",
    "            \n",
    "            star_flux += np.real(A[i] * np.exp(-1j*f[i]*2*np.pi*(t - t_peri)))\n",
    "            \n",
    "        return star_flux\n",
    "    \n",
    "    \n",
    "    def find_flux (self, inc, omega, x, t, t_peri=0, reflection=True, bol=False):\n",
    "        \n",
    "        star_1 = self.find_star_flux(1, inc, omega, x, t, t_peri, bol)\n",
    "        star_2 = self.find_star_flux(2, inc, omega, x, t, t_peri, bol)\n",
    "        \n",
    "        if reflection==False:\n",
    "            return star_1 + star_2\n",
    "        \n",
    "        else:\n",
    "            irr_1 = self.irr[1].find_irrad(x, t, t_peri)\n",
    "            irr_2 = self.irr[2].find_irrad(x, t, t_peri)\n",
    "        \n",
    "            return irr_1 + irr_2 + star_1 + star_2\n",
    "    "
   ]
  },
  {
   "cell_type": "code",
   "execution_count": 294,
   "metadata": {
    "code_folding": []
   },
   "outputs": [],
   "source": [
    "def run_observer(bin_list):\n",
    "    \n",
    "    # Setup observer\n",
    "    \n",
    "    obs = observer(bin_list)\n",
    "    \n",
    "    inc = obs.nml['orbit']['inc']\n",
    "    omega = obs.nml['orbit']['omega']\n",
    "    t_units = 1/obs.nml['orbit']['Omega_orb']\n",
    "    \n",
    "    x = obs.nml['observer']['bandpass']\n",
    "    t_start = obs.nml['observer']['t_start']*t_units\n",
    "    t_end = obs.nml['observer']['t_end']*t_units\n",
    "    n = obs.nml['observer']['n']\n",
    "    \n",
    "    t_ = np.linspace(t_start, t_end, n)\n",
    "\n",
    "    # Evaluate fourier terms\n",
    "\n",
    "    return obs.find_flux(inc, omega, x, t_) \n",
    "\n"
   ]
  },
  {
   "cell_type": "code",
   "execution_count": 23,
   "metadata": {},
   "outputs": [],
   "source": [
    "# Evaluate fourier terms\n",
    "\n",
    "inc = 82.9\n",
    "omega = 122.2\n",
    "x = 'BRITE-B'\n",
    "\n",
    "obs1 = observer('bin_params.in', 'BRITE-B')\n",
    "obs2 = observer('bin_params.in', 'BRITE-R')\n",
    "omega_orb = obs1.nml['orbit']['Omega_orb']\n",
    "\n",
    "t = np.linspace(-1.5/omega_orb, 2.5/omega_orb, 2000)\n",
    "\n",
    "flux_1 = obs1.find_flux(inc, omega, 'BRITE-B', t) \n",
    "flux_2 = obs2.find_flux(inc, omega, 'BRITE-R', t) "
   ]
  },
  {
   "cell_type": "code",
   "execution_count": 45,
   "metadata": {},
   "outputs": [
    {
     "data": {
      "image/png": "[encoded data removed]",
      "text/plain": [
       "<Figure size 720x432 with 1 Axes>"
      ]
     },
     "metadata": {
      "needs_background": "light"
     },
     "output_type": "display_data"
    }
   ],
   "source": [
    "# Plot\n",
    "fig, ax = plt.subplots(1,1, sharex=True, sharey=True, figsize=(10,6))#, dpi=100)\n",
    "\n",
    "ax.plot(t*omega_orb, (flux_1 + 1.1)*1000, c='C0', lw=1, label=r'$F$(BRITE-B)')\n",
    "ax.plot(t*omega_orb, (flux_2 + 1.0)*1000, c='C3', lw=1, label=r'$F$(BRITE-R)')\n",
    "\n",
    "ax.set_xlim(0.6,1.6)\n",
    "ax.set_ylim(0.95*1000,1.15*1000)\n",
    "\n",
    "legend_style = {'framealpha':1.0, 'handlelength':1.2, 'handletextpad':0.5, 'fontsize':'small'}\n",
    "ax.legend(loc=1, **legend_style)\n",
    "\n",
    "ax.set_title(f'$\\iota$Ori A flux, zero response, $i$={inc}')\n",
    "\n",
    "fig.text(0.01, 0.5, r'Relative Flux Perturbation ($\\times 1000$)', va='center', rotation='vertical')\n",
    "fig.text(0.5, 0.01, f\"phase (P={1./omega_orb:4.4f} d)\", ha='center')\n",
    "\n",
    "fig.savefig(f'iOri_response_msg.png')"
   ]
  },
  {
   "cell_type": "code",
   "execution_count": 40,
   "metadata": {},
   "outputs": [
    {
     "data": {
      "image/png": "[encoded data removed]",
      "text/plain": [
       "<Figure size 720x432 with 1 Axes>"
      ]
     },
     "metadata": {
      "needs_background": "light"
     },
     "output_type": "display_data"
    }
   ],
   "source": [
    "# Plot\n",
    "fig, ax = plt.subplots(1,1, sharex=True, sharey=True, figsize=(10,6))#, dpi=100)\n",
    "\n",
    "ax.plot(t*omega_orb, (flux_1-flux_2)*1000, c='g', lw=1)\n",
    "ax.axhline(0, xmin=0,xmax=1, lw=1, ls='--', c='k')\n",
    "\n",
    "ax.set_xlim(0.6,1.6)\n",
    "#ax.set_ylim(0.95*1000,1.15*1000)\n",
    "\n",
    "ax.set_title(f'$\\iota$Ori A flux difference, $F$(BRITE-B) $-$ $F$(BRITE-R), $i$={inc}')\n",
    "\n",
    "fig.text(0.01, 0.5, r'Relative Flux Perturbation ($\\times 1000$)', va='center', rotation='vertical')\n",
    "fig.text(0.5, 0.01, f\"phase (P={1./omega_orb:4.4f} d)\", ha='center')\n",
    "\n",
    "fig.savefig(f'iOri_response_msg_difference.png')"
   ]
  },
  {
   "cell_type": "code",
   "execution_count": 25,
   "metadata": {},
   "outputs": [],
   "source": [
    "f1, A1 = obs1.eval_fourier(1, inc, omega, 'BRITE-B')\n",
    "f2, A2 = obs2.eval_fourier(2, inc, omega, 'BRITE-R')"
   ]
  },
  {
   "cell_type": "code",
   "execution_count": 26,
   "metadata": {},
   "outputs": [],
   "source": [
    "fspace = np.linspace(0, 50, 501)\n",
    "A1_space = np.zeros_like(fspace)\n",
    "A2_space = np.zeros_like(fspace)"
   ]
  },
  {
   "cell_type": "code",
   "execution_count": 27,
   "metadata": {},
   "outputs": [],
   "source": [
    "A1_space[0:451:10] = [np.abs(np.real(A1[int(i)])) for i in fspace[0:451:10]]\n",
    "A2_space[0:451:10] = [np.abs(np.real(A2[int(i)])) for i in fspace[0:451:10]]"
   ]
  },
  {
   "cell_type": "code",
   "execution_count": 28,
   "metadata": {
    "scrolled": true
   },
   "outputs": [
    {
     "data": {
      "image/png": "[encoded data removed]",
      "text/plain": [
       "<Figure size 550x400 with 1 Axes>"
      ]
     },
     "metadata": {
      "needs_background": "light"
     },
     "output_type": "display_data"
    }
   ],
   "source": [
    "# Plot\n",
    "fig, ax = plt.subplots(1,1, sharex=True, sharey=True, figsize=(5.5,4), dpi=100)\n",
    "\n",
    "ax.plot(fspace, 1000*(A1_space), c='C1', lw=1)\n",
    "ax.plot(fspace, 1000*(A2_space), c='C2', lw=1)\n",
    "\n",
    "ax.set_xlim(0,50)\n",
    "#ax.set_ylim(0,10)\n",
    "\n",
    "#legend_style = {'framealpha':1.0, 'handlelength':1.2, 'handletextpad':0.5, 'fontsize':'small'}\n",
    "#ax.legend(loc=1, **legend_style)\n",
    "\n",
    "ax.set_title('iota Ori A pulsation spectrum')\n",
    "\n",
    "ax.set_ylabel('Amplitude (ppt)')\n",
    "ax.set_xlabel(\"wavenumber k\")\n",
    "\n",
    "fig.tight_layout()\n",
    "#fig.savefig(f'iOri_flux_spectrum.png')"
   ]
  },
  {
   "cell_type": "markdown",
   "metadata": {},
   "source": [
    "# MSG"
   ]
  },
  {
   "cell_type": "code",
   "execution_count": null,
   "metadata": {},
   "outputs": [],
   "source": [
    "# Create a new SpecGrid\n",
    "\n",
    "pg = pymsg.PhotGrid('sg-demo-kepler.h5')"
   ]
  },
  {
   "cell_type": "code",
   "execution_count": 49,
   "metadata": {},
   "outputs": [
    {
     "name": "stdout",
     "output_type": "stream",
     "text": [
      "Atmosphere parameters:\n",
      "  logT (3.5440680443502757 -> 4.698970004336019)\n",
      "  logg (0.0 -> 5.0)\n",
      "\n",
      "Spectral abcissa parameters:\n",
      "  w_0: 8.003028666384733\n",
      "   dw: 0.001\n",
      "  n_w: 852\n"
     ]
    }
   ],
   "source": [
    "print('Atmosphere parameters:')\n",
    "for i, axis_label in enumerate(sg.axis_labels):\n",
    "    print(f'  {axis_label} ({sg.axis_minima[i]} -> {sg.axis_maxima[i]})')\n",
    "\n",
    "print()\n",
    "\n",
    "print('Spectral abcissa parameters:')\n",
    "print(f'  w_0: {sg.w_0}')\n",
    "print(f'   dw: {sg.dw}')\n",
    "print(f'  n_w: {sg.n_w}')"
   ]
  },
  {
   "cell_type": "code",
   "execution_count": null,
   "metadata": {},
   "outputs": [],
   "source": []
  },
  {
   "cell_type": "code",
   "execution_count": 110,
   "metadata": {},
   "outputs": [],
   "source": [
    "# Set atmosphere parameters dict\n",
    "\n",
    "dx = {'logT': np.log10(30890.), 'logg': 3.645}\n",
    "\n",
    "# Set wavelength bounds\n",
    "\n",
    "lambda_min = 3000.\n",
    "lambda_max = 7000.\n",
    "\n",
    "# Set up corresponding w bounds\n",
    "\n",
    "w_min = np.log(lambda_min)\n",
    "w_max = np.log(lambda_max)\n",
    "\n",
    "# Set up spectral abscissa values\n",
    "\n",
    "w_0 = w_min\n",
    "dw = sg.dw\n",
    "n_w = np.ceil((w_max - w_min)/dw)"
   ]
  },
  {
   "cell_type": "code",
   "execution_count": 111,
   "metadata": {
    "scrolled": true
   },
   "outputs": [],
   "source": [
    "# Evaluate the center wavelength of the bins\n",
    "\n",
    "lambda_c = np.exp(w_0 + 0.5*dw + np.arange(n_w)*dw)\n",
    "\n",
    "# Evaluate the flux; note the parameters!\n",
    "\n",
    "F_w = sg.flux(dx, w_0, n_w)\n",
    "\n",
    "# Convert flux from per-unit-w to per-unit-lambda\n",
    "\n",
    "F_lambda = F_w/lambda_c"
   ]
  },
  {
   "cell_type": "code",
   "execution_count": 174,
   "metadata": {},
   "outputs": [
    {
     "name": "stdout",
     "output_type": "stream",
     "text": [
      "160.58319648674257\n"
     ]
    }
   ],
   "source": [
    "B = read_johnson_filter('../filters/BRITE-B.txt', w_0, dw, n_w)\n",
    "print(np.sum(B))"
   ]
  },
  {
   "cell_type": "code",
   "execution_count": 175,
   "metadata": {
    "code_folding": []
   },
   "outputs": [],
   "source": [
    "##### Build class filter grid"
   ]
  },
  {
   "cell_type": "code",
   "execution_count": 234,
   "metadata": {},
   "outputs": [],
   "source": [
    "I_w = sg.intensity(dx, mu, w_0, n_w)"
   ]
  },
  {
   "cell_type": "code",
   "execution_count": 186,
   "metadata": {},
   "outputs": [
    {
     "data": {
      "text/plain": [
       "<matplotlib.legend.Legend at 0x7ff0499d6970>"
      ]
     },
     "execution_count": 186,
     "metadata": {},
     "output_type": "execute_result"
    },
    {
     "data": {
      "image/png": "[encoded data removed]",
      "text/plain": [
       "<Figure size 576x576 with 1 Axes>"
      ]
     },
     "metadata": {
      "needs_background": "light"
     },
     "output_type": "display_data"
    }
   ],
   "source": [
    "# Loop over mu\n",
    "\n",
    "plt.figure(figsize=[8,8])\n",
    "\n",
    "for i,mu in enumerate(np.linspace(1.0, 0.0, 5)):\n",
    "\n",
    "    # Evaluate the intensity; note the parameters!\n",
    "\n",
    "    I_w = sg.intensity(dx, mu, w_0, n_w)\n",
    "    \n",
    "    I_lambda = I_w/lambda_c\n",
    "\n",
    "    I_x = eval_I_x(I_w, '../filters/BRITE-B.txt', w_0, dw, n_w, debug=True)\n",
    "\n",
    "    # Plot\n",
    "\n",
    "    if mu==0.1 or mu==1.0:\n",
    "        label=r'$\\mu={:3.1f}$'.format(mu)\n",
    "    else:\n",
    "        label=None\n",
    "\n",
    "    plt.plot(lambda_c, I_lambda, label=label, c=f'C{i}')\n",
    "    plt.plot(lambda_c, I_x, c=f'C{i}', ls=':')\n",
    "    \n",
    "plt.xlabel(r'$\\lambda ({\\AA})$')\n",
    "plt.ylabel(r'$I_{\\lambda} ({\\rm erg\\,cm^{-2}\\,s^{-1}}\\,\\AA^{-1}\\,srad^{-1})$')\n",
    "\n",
    "plt.legend()\n",
    "\n",
    "#plt.savefig('I_x_debug_mode.png')"
   ]
  },
  {
   "cell_type": "code",
   "execution_count": 243,
   "metadata": {},
   "outputs": [],
   "source": [
    "l_min = 1\n",
    "dl = 1\n",
    "l_max = 4\n",
    "n_l = np.ceil( (l_max - l_min)/dl ) + 1\n",
    "\n",
    "l_range = l_min + dl*np.arange(n_l)\n",
    "\n",
    "I_x_l, dI_dlnT_x_l, dI_dlng_x_l = eval_I_x_l(sg, dx, l_range, '../filters/BRITE-B.txt', w_0, dw, n_w)"
   ]
  },
  {
   "cell_type": "code",
   "execution_count": 244,
   "metadata": {},
   "outputs": [
    {
     "name": "stdout",
     "output_type": "stream",
     "text": [
      "{1.0: 87964245482.07422, 2.0: 40001299855.48776, 3.0: 7267347424.470581, 4.0: -2938709337.802342}\n",
      "{1.0: 166116844089.40265, 2.0: 74926745510.98122, 3.0: 12786708277.961544, 4.0: -6322508379.989166}\n",
      "{1.0: -1926297839.0540888, 2.0: -1433378189.0572414, 3.0: -737894424.9904517, 4.0: -133985978.46560672}\n"
     ]
    }
   ],
   "source": [
    "print(I_x_l)\n",
    "print(dI_dlnT_x_l)\n",
    "print(dI_dlng_x_l)"
   ]
  },
  {
   "cell_type": "markdown",
   "metadata": {},
   "source": [
    "### intensity"
   ]
  },
  {
   "cell_type": "code",
   "execution_count": 182,
   "metadata": {},
   "outputs": [
    {
     "name": "stdout",
     "output_type": "stream",
     "text": [
      "Help on SpecGrid object:\n",
      "\n",
      "class SpecGrid(builtins.object)\n",
      " |  A SpecGrid represents a grid of spectral intensity data.\n",
      " |  \n",
      " |  This grid may be used to interpolate the specific intensity (or\n",
      " |  related quantities) across a spatial (wavelength) abscissa and for\n",
      " |  a set of atmospheric parameter values Both internally and for\n",
      " |  interpolated results, the spatial abscissa is configured as a set\n",
      " |  of bins distributed uniformly in :math:`w`-space, where\n",
      " |  :math:`{\\rm d}w`, where :math:`w \\equiv\n",
      " |  \\log(\\lambda/\\angstrom)`. Three parameters uniquely specify the\n",
      " |  abscissa: w_0, dw and n_w; the i'th bin (i=0,...,n_w-1) then spans\n",
      " |  the interval [w_0+i*dw, w_0+(i+1)*dw].\n",
      " |  \n",
      " |  Methods defined here:\n",
      " |  \n",
      " |  D_moment(self, dx, l, w_0, n_w, deriv)\n",
      " |      Evaluate the spectroscopic intensity moment :math:`D_{\\ell}(w)`.\n",
      " |      \n",
      " |      Args:\n",
      " |          dx (dict): Atmospheric parameters; keys must match\n",
      " |              `axis_labels` property, values must be double.\n",
      " |          l (int): Harmonic degree of moment.\n",
      " |          w_0 (double): Spatial abscissa minimum value.\n",
      " |          n_w (int): Spatial abscissa number of bins.\n",
      " |          deriv (dict, optional): Flags indicating whether to \n",
      " |              evaluate derivative wrt each atmospheric parameter;\n",
      " |              keys must match the `axis_labels` property, values must \n",
      " |              be boolean.\n",
      " |      \n",
      " |      Returns:\n",
      " |          numpy.ndarray: spectroscopic intensity moment [:math:`\\erg\\,\\cm^{-2}\\,\\second^{-1}`]\n",
      " |      \n",
      " |      Raises:\n",
      " |          KeyError: If `dx` does not define all keys appearing in the\n",
      " |              `axis_labels` property.\n",
      " |          ValueError: If `dx`, `l`, or any part of the spatial \n",
      " |              abscissa falls outside the bounds of the grid.\n",
      " |          LookupError: If `dx` falls in a grid void.\n",
      " |      \n",
      " |      Note:\n",
      " |          The spatial abscissa for the returned data is defined by\n",
      " |          the `w_0` and `n_w` parameters, and the `dw` property.\n",
      " |  \n",
      " |  __init__(...)\n",
      " |      SpecGrid constructor.\n",
      " |      \n",
      " |      Args:\n",
      " |          filename (string): Full pathname of grid file to load.\n",
      " |          rebin_pars (tuple, optional): Parameters `(w_0, dw, n_w)` for\n",
      " |              rebinning grid data when loading.\n",
      " |  \n",
      " |  __reduce__ = __reduce_cython__(...)\n",
      " |  \n",
      " |  __setstate__ = __setstate_cython__(...)\n",
      " |  \n",
      " |  flux(self, dx, w_0, n_w, deriv)\n",
      " |      Evaluate the spectroscopic flux :math:`F(w)`.\n",
      " |      \n",
      " |      Args:\n",
      " |          dx (dict): Atmospheric parameters; keys must match\n",
      " |              `axis_labels` property, values must be double.\n",
      " |          w_0 (double): Spatial abscissa minimum value.\n",
      " |          n_w (int): Spatial abscissa number of bins.\n",
      " |          deriv (dict, optional): Flags indicating whether to \n",
      " |              evaluate derivative wrt each atmospheric parameter;\n",
      " |              keys must match the `axis_labels` property, values must\n",
      " |              be boolean.\n",
      " |      \n",
      " |      Returns:\n",
      " |          numpy.ndarray: spectroscopic flux [:math:`\\erg\\,\\cm^{-2}\\,\\second^{-1}`]\n",
      " |      \n",
      " |      Raises:\n",
      " |          KeyError: If `dx` does not define all keys appearing in the\n",
      " |              `axis_labels` property.\n",
      " |          ValueError: If `dx` or any part of the spatial abscissa \n",
      " |              falls outside the bounds of the grid.\n",
      " |          LookupError: If `dx` falls in a grid void.\n",
      " |      \n",
      " |      Note:\n",
      " |          The spatial abscissa for the returned data is defined by\n",
      " |          the `w_0` and `n_w` parameters, and the `dw` property.\n",
      " |  \n",
      " |  intensity(self, dx, mu, w_0, n_w, deriv)\n",
      " |      Evaluate the spectroscopic intensity :math:`I(\\mu,w)`.\n",
      " |      \n",
      " |      Args:\n",
      " |          dx (dict): Atmospheric parameters; keys must match\n",
      " |              `axis_labels` property, values must be double.\n",
      " |          mu (double): Cosine of angle of emergence, :math:`\\mu`, \n",
      " |              relative to surface normal.\n",
      " |          w_0 (double): Spatial abscissa minimum value.\n",
      " |          n_w (int): Spatial abscissa number of bins.\n",
      " |          deriv (dict, optional): Flags indicating whether to \n",
      " |              evaluate derivative wrt each atmospheric parameter;\n",
      " |              keys must match the `axis_labels` property, values must \n",
      " |              be boolean.\n",
      " |      \n",
      " |      Returns:\n",
      " |          numpy.ndarray: spectroscopic intensity [:math:`\\erg\\,\\cm^{-2}\\,\\second^{-1}\\,\\steradian^{-1}`]\n",
      " |      \n",
      " |      Raises:\n",
      " |          KeyError: If `dx` does not define all keys appearing in the\n",
      " |              `axis_labels` property.\n",
      " |          ValueError: If `dx`, `mu`, or any part of the spatial \n",
      " |              abscissa falls outside the bounds of the grid.\n",
      " |          LookupError: If `dx` falls in a grid void.\n",
      " |      \n",
      " |      Note:\n",
      " |          The spatial abscissa for the returned data is defined by\n",
      " |          the `w_0` and `n_w` parameters, and the `dw` property.\n",
      " |  \n",
      " |  ----------------------------------------------------------------------\n",
      " |  Static methods defined here:\n",
      " |  \n",
      " |  __new__(*args, **kwargs) from builtins.type\n",
      " |      Create and return a new object.  See help(type) for accurate signature.\n",
      " |  \n",
      " |  ----------------------------------------------------------------------\n",
      " |  Data descriptors defined here:\n",
      " |  \n",
      " |  axis_labels\n",
      " |      list: Atmospheric parameter axes labels.\n",
      " |  \n",
      " |  axis_maxima\n",
      " |      numpy.ndarray: Atmospheric parameter axes maxima.\n",
      " |  \n",
      " |  axis_minima\n",
      " |      numpy.ndarray: Atmospheric parameter axes minimia.\n",
      " |  \n",
      " |  dw\n",
      " |      double: Spatial abscissa bin width.\n",
      " |  \n",
      " |  n_w\n",
      " |      int: Spatial abscissa number of bins.\n",
      " |  \n",
      " |  rank\n",
      " |      int: Number of atmospheric parameters axes\n",
      " |  \n",
      " |  shape\n",
      " |      numpy.ndarray: Atmospheric parameter axes lengths.\n",
      " |  \n",
      " |  w_0\n",
      " |      double: Spatial abscissa minimum value.\n",
      "\n"
     ]
    }
   ],
   "source": [
    "help(sg)"
   ]
  },
  {
   "cell_type": "markdown",
   "metadata": {},
   "source": [
    "# PHOEBE"
   ]
  },
  {
   "cell_type": "code",
   "execution_count": null,
   "metadata": {},
   "outputs": [],
   "source": [
    "import phoebe"
   ]
  },
  {
   "cell_type": "code",
   "execution_count": 20,
   "metadata": {},
   "outputs": [
    {
     "name": "stdout",
     "output_type": "stream",
     "text": [
      "{'M': 23.182330819507285, 'R': 11.999685653939883, 'L': 117782.65356264106, 'Teff': 30890.40961431762, 'logg': 3.6449995448967565}\n",
      "{'M': 13.441351432880843, 'R': 4.6508146978180465, 'L': 14074.939028371045, 'Teff': 29173.288083715444, 'logg': 4.2315670480927166}\n",
      "{'a': 132.0, 'e': 0.764, 'Omega_orb': 0.034324440099733095}\n"
     ]
    }
   ],
   "source": [
    "print(obs.bin_data.star[1].par)\n",
    "print(obs.bin_data.star[2].par)\n",
    "print(obs.bin_data.orbit)"
   ]
  },
  {
   "cell_type": "code",
   "execution_count": 22,
   "metadata": {},
   "outputs": [],
   "source": [
    "b=phoebe.default_binary()"
   ]
  },
  {
   "cell_type": "code",
   "execution_count": 32,
   "metadata": {},
   "outputs": [],
   "source": [
    "b.set_value('q', value=0.5798)\n",
    "b.set_value('period', component='binary', value=29.13376)\n",
    "b.set_value('sma', component='binary', value=132.0)\n",
    "b.set_value('incl', component='binary', value=82.9)\n",
    "b.set_value('ecc', component='binary', value=0.764)\n",
    "\n",
    "b.set_value('teff', component='primary', value=30890.40961431762)\n",
    "#b.set_value('logg', component='primary', value=3.6449995448967565)\n",
    "\n",
    "b.set_value('teff', component='secondary', value=29173.288083715444)\n",
    "#b.set_value('logg', component='secondary', value=4.2315670480927166)"
   ]
  },
  {
   "cell_type": "code",
   "execution_count": 34,
   "metadata": {},
   "outputs": [
    {
     "ename": "ValueError",
     "evalue": "Could not lookup ld_coeffs for ld_coeffs_source_bol@primary@star@component.  Try changing ld_coeffs_source_bol to a table that covers a sufficient range of values or set ld_mode_bol to 'manual' and manually provide coefficients via ld_coeffs_bol. Enable 'warning' logger to see out-of-bound arrays.",
     "output_type": "error",
     "traceback": [
      "\u001b[0;31m---------------------------------------------------------------------------\u001b[0m",
      "\u001b[0;31mValueError\u001b[0m                                Traceback (most recent call last)",
      "\u001b[0;32m~/opt/anaconda3/lib/python3.8/site-packages/phoebe/frontend/bundle.py\u001b[0m in \u001b[0;36mcompute_ld_coeffs\u001b[0;34m(self, compute, set_value, **kwargs)\u001b[0m\n\u001b[1;32m   8980\u001b[0m                 \u001b[0;32mtry\u001b[0m\u001b[0;34m:\u001b[0m\u001b[0;34m\u001b[0m\u001b[0;34m\u001b[0m\u001b[0m\n\u001b[0;32m-> 8981\u001b[0;31m                     \u001b[0mld_coeffs\u001b[0m \u001b[0;34m=\u001b[0m \u001b[0mpb\u001b[0m\u001b[0;34m.\u001b[0m\u001b[0minterpolate_ldcoeffs\u001b[0m\u001b[0;34m(\u001b[0m\u001b[0mteff\u001b[0m\u001b[0;34m,\u001b[0m \u001b[0mlogg\u001b[0m\u001b[0;34m,\u001b[0m \u001b[0mabun\u001b[0m\u001b[0;34m,\u001b[0m \u001b[0mldcs\u001b[0m\u001b[0;34m,\u001b[0m \u001b[0mld_func\u001b[0m\u001b[0;34m,\u001b[0m \u001b[0mphoton_weighted\u001b[0m\u001b[0;34m)\u001b[0m\u001b[0;34m\u001b[0m\u001b[0;34m\u001b[0m\u001b[0m\n\u001b[0m\u001b[1;32m   8982\u001b[0m                 \u001b[0;32mexcept\u001b[0m \u001b[0mValueError\u001b[0m \u001b[0;32mas\u001b[0m \u001b[0merr\u001b[0m\u001b[0;34m:\u001b[0m\u001b[0;34m\u001b[0m\u001b[0;34m\u001b[0m\u001b[0m\n",
      "\u001b[0;32m~/opt/anaconda3/lib/python3.8/site-packages/phoebe/atmospheres/passbands.py\u001b[0m in \u001b[0;36minterpolate_ldcoeffs\u001b[0;34m(self, Teff, logg, abun, ldatm, ld_func, photon_weighted)\u001b[0m\n\u001b[1;32m   2363\u001b[0m         \u001b[0;32mif\u001b[0m \u001b[0mnp\u001b[0m\u001b[0;34m.\u001b[0m\u001b[0many\u001b[0m\u001b[0;34m(\u001b[0m\u001b[0mnanmask\u001b[0m\u001b[0;34m)\u001b[0m\u001b[0;34m:\u001b[0m\u001b[0;34m\u001b[0m\u001b[0;34m\u001b[0m\u001b[0m\n\u001b[0;32m-> 2364\u001b[0;31m             \u001b[0;32mraise\u001b[0m \u001b[0mValueError\u001b[0m\u001b[0;34m(\u001b[0m\u001b[0;34m'Atmosphere parameters out of bounds: ldatm=%s, teff=%s, logg=%s, abun=%s'\u001b[0m \u001b[0;34m%\u001b[0m \u001b[0;34m(\u001b[0m\u001b[0mldatm\u001b[0m\u001b[0;34m,\u001b[0m \u001b[0mreq\u001b[0m\u001b[0;34m[\u001b[0m\u001b[0;34m:\u001b[0m\u001b[0;34m,\u001b[0m\u001b[0;36m0\u001b[0m\u001b[0;34m]\u001b[0m\u001b[0;34m[\u001b[0m\u001b[0mnanmask\u001b[0m\u001b[0;34m]\u001b[0m\u001b[0;34m,\u001b[0m \u001b[0mreq\u001b[0m\u001b[0;34m[\u001b[0m\u001b[0;34m:\u001b[0m\u001b[0;34m,\u001b[0m\u001b[0;36m1\u001b[0m\u001b[0;34m]\u001b[0m\u001b[0;34m[\u001b[0m\u001b[0mnanmask\u001b[0m\u001b[0;34m]\u001b[0m\u001b[0;34m,\u001b[0m \u001b[0mreq\u001b[0m\u001b[0;34m[\u001b[0m\u001b[0;34m:\u001b[0m\u001b[0;34m,\u001b[0m\u001b[0;36m2\u001b[0m\u001b[0;34m]\u001b[0m\u001b[0;34m[\u001b[0m\u001b[0mnanmask\u001b[0m\u001b[0;34m]\u001b[0m\u001b[0;34m)\u001b[0m\u001b[0;34m)\u001b[0m\u001b[0;34m\u001b[0m\u001b[0;34m\u001b[0m\u001b[0m\n\u001b[0m\u001b[1;32m   2365\u001b[0m \u001b[0;34m\u001b[0m\u001b[0m\n",
      "\u001b[0;31mValueError\u001b[0m: Atmosphere parameters out of bounds: ldatm=ck2004, teff=[30890.40961432], logg=[5.80008087], abun=[0.]",
      "\nDuring handling of the above exception, another exception occurred:\n",
      "\u001b[0;31mValueError\u001b[0m                                Traceback (most recent call last)",
      "\u001b[0;32m<ipython-input-34-533cce21f4db>\u001b[0m in \u001b[0;36m<module>\u001b[0;34m\u001b[0m\n\u001b[1;32m      1\u001b[0m \u001b[0mb\u001b[0m\u001b[0;34m.\u001b[0m\u001b[0madd_dataset\u001b[0m\u001b[0;34m(\u001b[0m\u001b[0;34m'lc'\u001b[0m\u001b[0;34m,\u001b[0m \u001b[0mtimes\u001b[0m\u001b[0;34m=\u001b[0m\u001b[0mphoebe\u001b[0m\u001b[0;34m.\u001b[0m\u001b[0mlinspace\u001b[0m\u001b[0;34m(\u001b[0m\u001b[0;36m0\u001b[0m\u001b[0;34m,\u001b[0m\u001b[0;36m2\u001b[0m\u001b[0;34m,\u001b[0m\u001b[0;36m101\u001b[0m\u001b[0;34m)\u001b[0m\u001b[0;34m)\u001b[0m\u001b[0;34m\u001b[0m\u001b[0;34m\u001b[0m\u001b[0m\n\u001b[1;32m      2\u001b[0m \u001b[0mb\u001b[0m\u001b[0;34m.\u001b[0m\u001b[0madd_dataset\u001b[0m\u001b[0;34m(\u001b[0m\u001b[0;34m'rv'\u001b[0m\u001b[0;34m,\u001b[0m \u001b[0mtimes\u001b[0m\u001b[0;34m=\u001b[0m\u001b[0mphoebe\u001b[0m\u001b[0;34m.\u001b[0m\u001b[0mlinspace\u001b[0m\u001b[0;34m(\u001b[0m\u001b[0;36m0\u001b[0m\u001b[0;34m,\u001b[0m\u001b[0;36m2\u001b[0m\u001b[0;34m,\u001b[0m\u001b[0;36m101\u001b[0m\u001b[0;34m)\u001b[0m\u001b[0;34m)\u001b[0m\u001b[0;34m\u001b[0m\u001b[0;34m\u001b[0m\u001b[0m\n\u001b[0;32m----> 3\u001b[0;31m \u001b[0mb\u001b[0m\u001b[0;34m.\u001b[0m\u001b[0mrun_compute\u001b[0m\u001b[0;34m(\u001b[0m\u001b[0;34m)\u001b[0m\u001b[0;34m\u001b[0m\u001b[0;34m\u001b[0m\u001b[0m\n\u001b[0m\u001b[1;32m      4\u001b[0m \u001b[0mb\u001b[0m\u001b[0;34m.\u001b[0m\u001b[0mplot\u001b[0m\u001b[0;34m(\u001b[0m\u001b[0mx\u001b[0m\u001b[0;34m=\u001b[0m\u001b[0;34m'phases'\u001b[0m\u001b[0;34m,\u001b[0m \u001b[0mshow\u001b[0m\u001b[0;34m=\u001b[0m\u001b[0;32mTrue\u001b[0m\u001b[0;34m)\u001b[0m\u001b[0;34m\u001b[0m\u001b[0;34m\u001b[0m\u001b[0m\n",
      "\u001b[0;32m~/opt/anaconda3/lib/python3.8/site-packages/phoebe/parameters/parameters.py\u001b[0m in \u001b[0;36m_send_if_client\u001b[0;34m(self, *args, **kwargs)\u001b[0m\n\u001b[1;32m    399\u001b[0m \u001b[0;34m\u001b[0m\u001b[0m\n\u001b[1;32m    400\u001b[0m         \u001b[0;32melse\u001b[0m\u001b[0;34m:\u001b[0m\u001b[0;34m\u001b[0m\u001b[0;34m\u001b[0m\u001b[0m\n\u001b[0;32m--> 401\u001b[0;31m             \u001b[0;32mreturn\u001b[0m \u001b[0mfctn\u001b[0m\u001b[0;34m(\u001b[0m\u001b[0mself\u001b[0m\u001b[0;34m,\u001b[0m \u001b[0;34m*\u001b[0m\u001b[0margs\u001b[0m\u001b[0;34m,\u001b[0m \u001b[0;34m**\u001b[0m\u001b[0mkwargs\u001b[0m\u001b[0;34m)\u001b[0m\u001b[0;34m\u001b[0m\u001b[0;34m\u001b[0m\u001b[0m\n\u001b[0m\u001b[1;32m    402\u001b[0m \u001b[0;34m\u001b[0m\u001b[0m\n\u001b[1;32m    403\u001b[0m     \u001b[0;32mreturn\u001b[0m \u001b[0m_send_if_client\u001b[0m\u001b[0;34m\u001b[0m\u001b[0;34m\u001b[0m\u001b[0m\n",
      "\u001b[0;32m~/opt/anaconda3/lib/python3.8/site-packages/phoebe/frontend/bundle.py\u001b[0m in \u001b[0;36mrun_compute\u001b[0;34m(self, compute, model, solver, detach, dataset, times, return_changes, **kwargs)\u001b[0m\n\u001b[1;32m  10358\u001b[0m                 \u001b[0;32mif\u001b[0m \u001b[0;34m'lc'\u001b[0m \u001b[0;32min\u001b[0m \u001b[0mds_kinds_enabled\u001b[0m \u001b[0;32mor\u001b[0m \u001b[0;34m'rv'\u001b[0m \u001b[0;32min\u001b[0m \u001b[0mds_kinds_enabled\u001b[0m \u001b[0;32mor\u001b[0m \u001b[0;34m'lp'\u001b[0m \u001b[0;32min\u001b[0m \u001b[0mds_kinds_enabled\u001b[0m\u001b[0;34m:\u001b[0m\u001b[0;34m\u001b[0m\u001b[0;34m\u001b[0m\u001b[0m\n\u001b[1;32m  10359\u001b[0m                     \u001b[0mlogger\u001b[0m\u001b[0;34m.\u001b[0m\u001b[0minfo\u001b[0m\u001b[0;34m(\u001b[0m\u001b[0;34m\"run_compute: computing necessary ld_coeffs, pblums, l3s\"\u001b[0m\u001b[0;34m)\u001b[0m\u001b[0;34m\u001b[0m\u001b[0;34m\u001b[0m\u001b[0m\n\u001b[0;32m> 10360\u001b[0;31m                     \u001b[0mself\u001b[0m\u001b[0;34m.\u001b[0m\u001b[0mcompute_ld_coeffs\u001b[0m\u001b[0;34m(\u001b[0m\u001b[0mcompute\u001b[0m\u001b[0;34m=\u001b[0m\u001b[0mcompute\u001b[0m\u001b[0;34m,\u001b[0m \u001b[0mskip_checks\u001b[0m\u001b[0;34m=\u001b[0m\u001b[0;32mTrue\u001b[0m\u001b[0;34m,\u001b[0m \u001b[0mset_value\u001b[0m\u001b[0;34m=\u001b[0m\u001b[0;32mTrue\u001b[0m\u001b[0;34m,\u001b[0m \u001b[0;34m**\u001b[0m\u001b[0;34m{\u001b[0m\u001b[0mk\u001b[0m\u001b[0;34m:\u001b[0m\u001b[0mv\u001b[0m \u001b[0;32mfor\u001b[0m \u001b[0mk\u001b[0m\u001b[0;34m,\u001b[0m\u001b[0mv\u001b[0m \u001b[0;32min\u001b[0m \u001b[0mkwargs\u001b[0m\u001b[0;34m.\u001b[0m\u001b[0mitems\u001b[0m\u001b[0;34m(\u001b[0m\u001b[0;34m)\u001b[0m \u001b[0;32mif\u001b[0m \u001b[0mk\u001b[0m \u001b[0;32min\u001b[0m \u001b[0mcomputeparams\u001b[0m\u001b[0;34m.\u001b[0m\u001b[0mqualifiers\u001b[0m\u001b[0;34m}\u001b[0m\u001b[0;34m)\u001b[0m\u001b[0;34m\u001b[0m\u001b[0;34m\u001b[0m\u001b[0m\n\u001b[0m\u001b[1;32m  10361\u001b[0m                     \u001b[0;31m# NOTE that if pblum_method != 'phoebe', then system will be None\u001b[0m\u001b[0;34m\u001b[0m\u001b[0;34m\u001b[0m\u001b[0;34m\u001b[0m\u001b[0m\n\u001b[1;32m  10362\u001b[0m                     \u001b[0;31m# otherwise the system will be create which we can pass on to the backend\u001b[0m\u001b[0;34m\u001b[0m\u001b[0;34m\u001b[0m\u001b[0;34m\u001b[0m\u001b[0m\n",
      "\u001b[0;32m~/opt/anaconda3/lib/python3.8/site-packages/phoebe/frontend/bundle.py\u001b[0m in \u001b[0;36mcompute_ld_coeffs\u001b[0;34m(self, compute, set_value, **kwargs)\u001b[0m\n\u001b[1;32m   8984\u001b[0m                         \u001b[0;31m# let's override with a more helpful error message\u001b[0m\u001b[0;34m\u001b[0m\u001b[0;34m\u001b[0m\u001b[0;34m\u001b[0m\u001b[0m\n\u001b[1;32m   8985\u001b[0m                         \u001b[0mlogger\u001b[0m\u001b[0;34m.\u001b[0m\u001b[0mwarning\u001b[0m\u001b[0;34m(\u001b[0m\u001b[0mstr\u001b[0m\u001b[0;34m(\u001b[0m\u001b[0merr\u001b[0m\u001b[0;34m)\u001b[0m\u001b[0;34m)\u001b[0m\u001b[0;34m\u001b[0m\u001b[0;34m\u001b[0m\u001b[0m\n\u001b[0;32m-> 8986\u001b[0;31m                         \u001b[0;32mraise\u001b[0m \u001b[0mValueError\u001b[0m\u001b[0;34m(\u001b[0m\u001b[0;34m\"Could not lookup ld_coeffs for {}.  Try changing ld_coeffs_source{} to a table that covers a sufficient range of values or set ld_mode{} to 'manual' and manually provide coefficients via ld_coeffs{}. Enable 'warning' logger to see out-of-bound arrays.\"\u001b[0m\u001b[0;34m.\u001b[0m\u001b[0mformat\u001b[0m\u001b[0;34m(\u001b[0m\u001b[0mldcs_param\u001b[0m\u001b[0;34m.\u001b[0m\u001b[0mtwig\u001b[0m\u001b[0;34m,\u001b[0m \u001b[0mbol_suffix\u001b[0m\u001b[0;34m,\u001b[0m \u001b[0mbol_suffix\u001b[0m\u001b[0;34m,\u001b[0m \u001b[0mbol_suffix\u001b[0m\u001b[0;34m)\u001b[0m\u001b[0;34m)\u001b[0m\u001b[0;34m\u001b[0m\u001b[0;34m\u001b[0m\u001b[0m\n\u001b[0m\u001b[1;32m   8987\u001b[0m                     \u001b[0;32melse\u001b[0m\u001b[0;34m:\u001b[0m\u001b[0;34m\u001b[0m\u001b[0;34m\u001b[0m\u001b[0m\n\u001b[1;32m   8988\u001b[0m                         \u001b[0;32mraise\u001b[0m \u001b[0merr\u001b[0m\u001b[0;34m\u001b[0m\u001b[0;34m\u001b[0m\u001b[0m\n",
      "\u001b[0;31mValueError\u001b[0m: Could not lookup ld_coeffs for ld_coeffs_source_bol@primary@star@component.  Try changing ld_coeffs_source_bol to a table that covers a sufficient range of values or set ld_mode_bol to 'manual' and manually provide coefficients via ld_coeffs_bol. Enable 'warning' logger to see out-of-bound arrays."
     ]
    }
   ],
   "source": [
    "b.add_dataset('lc', times=phoebe.linspace(0,2,101))\n",
    "b.add_dataset('rv', times=phoebe.linspace(0,2,101))\n",
    "b.run_compute()\n",
    "b.plot(x='phases', show=True)"
   ]
  },
  {
   "cell_type": "code",
   "execution_count": null,
   "metadata": {},
   "outputs": [],
   "source": []
  }
 ],
 "metadata": {
  "kernelspec": {
   "display_name": "Python 3",
   "language": "python",
   "name": "python3"
  },
  "language_info": {
   "codemirror_mode": {
    "name": "ipython",
    "version": 3
   },
   "file_extension": ".py",
   "mimetype": "text/x-python",
   "name": "python",
   "nbconvert_exporter": "python",
   "pygments_lexer": "ipython3",
   "version": "3.8.8"
  },
  "toc": {
   "base_numbering": 1,
   "nav_menu": {},
   "number_sections": true,
   "sideBar": true,
   "skip_h1_title": false,
   "title_cell": "Table of Contents",
   "title_sidebar": "Contents",
   "toc_cell": false,
   "toc_position": {},
   "toc_section_display": true,
   "toc_window_display": false
  },
  "varInspector": {
   "cols": {
    "lenName": 16,
    "lenType": 16,
    "lenVar": 40
   },
   "kernels_config": {
    "python": {
     "delete_cmd_postfix": "",
     "delete_cmd_prefix": "del ",
     "library": "var_list.py",
     "varRefreshCmd": "print(var_dic_list())"
    },
    "r": {
     "delete_cmd_postfix": ") ",
     "delete_cmd_prefix": "rm(",
     "library": "var_list.r",
     "varRefreshCmd": "cat(var_dic_list()) "
    }
   },
   "types_to_exclude": [
    "module",
    "function",
    "builtin_function_or_method",
    "instance",
    "_Feature"
   ],
   "window_display": false
  }
 },
 "nbformat": 4,
 "nbformat_minor": 2
}
