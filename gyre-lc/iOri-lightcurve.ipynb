{
 "cells": [
  {
   "cell_type": "code",
   "execution_count": 87,
   "metadata": {
    "ExecuteTime": {
     "end_time": "2020-09-16T15:26:27.314975Z",
     "start_time": "2020-09-16T15:26:27.285043Z"
    },
    "collapsed": true
   },
   "outputs": [],
   "source": [
    "import atm_coeffs as ac\n",
    "import resp_delta as rd\n",
    "import irrad_func as ir"
   ]
  },
  {
   "cell_type": "code",
   "execution_count": 76,
   "metadata": {
    "ExecuteTime": {
     "end_time": "2020-09-16T15:22:11.835453Z",
     "start_time": "2020-09-16T15:22:11.536310Z"
    },
    "collapsed": true
   },
   "outputs": [],
   "source": [
    "import h5py\n",
    "import numpy as np\n",
    "from scipy import interpolate as inp\n",
    "from scipy.integrate import quad as integrate\n",
    "from scipy.special import legendre, lpmv, sph_harm\n",
    "from scipy.optimize import fsolve\n",
    "from random import random as rand\n",
    "import inspect\n",
    "\n",
    "from PyAstronomy import pyasl\n",
    "\n",
    "import f90nml as nml\n",
    "from astropy.io import ascii\n",
    "from shutil import copyfile\n",
    "\n",
    "import matplotlib.pyplot as plt\n",
    "\n",
    "%matplotlib inline\n",
    "#%matplotlib notebook"
   ]
  },
  {
   "cell_type": "markdown",
   "metadata": {},
   "source": [
    "### Read Gyre output"
   ]
  },
  {
   "cell_type": "code",
   "execution_count": 3,
   "metadata": {
    "ExecuteTime": {
     "end_time": "2020-09-14T16:20:30.869370Z",
     "start_time": "2020-09-14T16:20:30.581967Z"
    },
    "collapsed": true
   },
   "outputs": [],
   "source": [
    "## Class definition\n",
    "\n",
    "class resp_coeffs:\n",
    "    \n",
    "    def __init__ (self, response_file):\n",
    "        \n",
    "        self.data = self.read_response(response_file)\n",
    "        \n",
    "        # Sanity check\n",
    "        \n",
    "        if len(self.data) == 0:\n",
    "            raise Exception('Empty response file')\n",
    "        if not isinstance(self.data, dict):\n",
    "            raise Exception('Response file type error')\n",
    "            \n",
    "        # Setup axes\n",
    "        \n",
    "        n_l = self.data['l_max']\n",
    "        n_m = 2*n_l\n",
    "        n_k = self.data['k_max']\n",
    "        \n",
    "        self.R_lmk = np.empty([n_l+1, n_m+1, n_k+1], dtype=complex)\n",
    "        self.T_lmk = np.empty([n_l+1, n_m+1, n_k+1], dtype=complex)\n",
    "        self.G_lmk = np.empty([n_l+1, n_m+1, n_k+1], dtype=complex)\n",
    "        \n",
    "        for l in range(2, n_l+1):\n",
    "            for m in range(-l, l+1):\n",
    "                for k in range(0, n_k+1):\n",
    "                    \n",
    "                    i_l = l\n",
    "                    i_m = m + n_l\n",
    "                    i_k = k\n",
    "\n",
    "                    self.R_lmk[i_l,i_m,i_k] = self.find_Delta_R(i_l,i_m,i_k)\n",
    "                    self.T_lmk[i_l,i_m,i_k] = self.find_Delta_T(i_l,i_m,i_k)\n",
    "                    self.G_lmk[i_l,i_m,i_k] = self.find_Delta_G(i_l,i_m,i_k, m,k)\n",
    "        \n",
    "        \n",
    "    def read_response(self, filename):\n",
    "    \n",
    "    # Read data from gyre_response\n",
    "    \n",
    "        f = h5py.File(filename, 'r')\n",
    "        \n",
    "        xi_r_ref_re = f['xi_r']['re'][...]\n",
    "        xi_r_ref_im = f['xi_r']['im'][...]\n",
    "        \n",
    "        lag_L_ref_re = f['lag_L']['re'][...]\n",
    "        lag_L_ref_im = f['lag_L']['im'][...]\n",
    "        \n",
    "        k_max = f.attrs['k_max']\n",
    "        l_max = f.attrs['l_max']\n",
    "        \n",
    "        Omega_rot = f.attrs['Omega_rot']\n",
    "        Omega_orb = f.attrs['Omega_orb']\n",
    "        \n",
    "        f.close()\n",
    "        \n",
    "        return {'xi_r_ref': xi_r_ref_re + 1j*xi_r_ref_im,\n",
    "                'lag_L_ref': lag_L_ref_re + 1j*lag_L_ref_im,\n",
    "                'k_max': k_max,\n",
    "                'l_max': l_max,\n",
    "                'Omega_rot': Omega_rot,\n",
    "                'Omega_orb': Omega_orb}\n",
    "    \n",
    "    \n",
    "    def find_Delta_R(self, i_l,i_m,i_k):\n",
    "    \n",
    "        return np.sqrt(4.*np.pi) * self.data['xi_r_ref'][i_k,i_m,i_l]\n",
    "        \n",
    "        \n",
    "    def find_Delta_T(self, i_l,i_m,i_k):\n",
    "            \n",
    "        xi_r_ref = self.data['xi_r_ref'][i_k,i_m,i_l]\n",
    "        \n",
    "        lag_L_ref = self.data['lag_L_ref'][i_k,i_m,i_l]\n",
    "        \n",
    "        return np.sqrt(4.*np.pi)*(lag_L_ref - 2*xi_r_ref)/4.\n",
    "      \n",
    "    \n",
    "    def find_Delta_G(self, i_l,i_m,i_k, m,k):\n",
    "    \n",
    "        xi_r_ref = self.data['xi_r_ref'][i_k,i_m,i_l]\n",
    "        \n",
    "        omega = -k*self.data['Omega_orb'] - m*self.data['Omega_rot']\n",
    "        \n",
    "        return np.sqrt(4*np.pi)*(-omega**2 - 2)*xi_r_ref\n",
    "\n"
   ]
  },
  {
   "cell_type": "code",
   "execution_count": 4,
   "metadata": {
    "ExecuteTime": {
     "end_time": "2020-09-14T16:20:31.370090Z",
     "start_time": "2020-09-14T16:20:31.147418Z"
    },
    "collapsed": true
   },
   "outputs": [],
   "source": [
    "class atm_coeffs:\n",
    "    \n",
    "    def __init__ (self, intensity_file, inlist_file):\n",
    "        \n",
    "        self.data = self.read_intensity(intensity_file)\n",
    "        \n",
    "        self.info = self.read_inlist(inlist_file)\n",
    "        \n",
    "        self.R_xl = {}\n",
    "        self.T_xl = {}\n",
    "        self.G_xl = {}\n",
    "        \n",
    "        for x in self.info:\n",
    "            \n",
    "            self.R_xl[x] = self.find_coeffs('R',x)\n",
    "            self.T_xl[x] = self.find_coeffs('T',x)\n",
    "            self.G_xl[x] = self.find_coeffs('G',x)\n",
    "    \n",
    "    \n",
    "    def read_intensity(self, filename):\n",
    "        \n",
    "        return h5py.File(filename, 'r')\n",
    "    \n",
    "    \n",
    "    def read_inlist(self, filename):\n",
    "        \n",
    "        inlist = nml.read(filename)\n",
    "        \n",
    "        info = {}\n",
    "        \n",
    "        if isinstance(inlist['color'], list):\n",
    "            \n",
    "            for color in inlist['color']:\n",
    "                info[color['filter']] = {'l_min':color['l_min'], 'l_max':color['l_max'] }\n",
    "            \n",
    "        elif isinstance(inlist['color'], type(inlist)):\n",
    "            \n",
    "            color = inlist['color']\n",
    "            info[color['filter']] = {'l_min':color['l_min'], 'l_max':color['l_max'] }\n",
    "        \n",
    "        else: raise Exception('ope')\n",
    "        \n",
    "        return info\n",
    "    \n",
    "            \n",
    "    def find_coeffs(self, C, x, l=None):\n",
    "        \n",
    "        I = self.data\n",
    "        \n",
    "        def find_coeffs_C(I, C, x, l):\n",
    "            \n",
    "            if C=='R': \n",
    "                return (2 + l)*(1 - l)*I[f'I_{x}_{l}'][:] / I[f'I_{x}_0'][:]\n",
    "        \n",
    "            if C=='T':\n",
    "                return I[f'dlnTeff_{x}_{l}'][:] / I[f'I_{x}_0'][:]\n",
    "        \n",
    "            if C=='G':\n",
    "                return I[f'dlng_{x}_{l}'][:] / I[f'I_{x}_0'][:]\n",
    "            \n",
    "        C_x = {} #np.empty([n_l+1], dtype=complex)\n",
    "        \n",
    "        if l==None:\n",
    "\n",
    "            n_l = self.info[x]['l_max'] # - self.info[x]['l_min'] \n",
    "            #this may break if l_min =/= 0\n",
    "        \n",
    "            for l in np.arange(n_l+1,dtype=int):\n",
    "                C_x[l] = find_coeffs_C(I,C,x,l)[0]\n",
    "            return C_x\n",
    "        \n",
    "        elif isinstance(l,int):\n",
    "            C_x[l] = find_coeffs_C(I,C,x,l)[0]\n",
    "            return C_x\n",
    "        \n",
    "        else:\n",
    "            raise Exception('TypeError: l must be int or int array')"
   ]
  },
  {
   "cell_type": "code",
   "execution_count": 80,
   "metadata": {
    "ExecuteTime": {
     "end_time": "2020-09-16T15:24:58.160019Z",
     "start_time": "2020-09-16T15:24:57.616334Z"
    }
   },
   "outputs": [],
   "source": [
    "class binary:\n",
    "    \n",
    "    def __init__ (self, resp_data, bin_data):\n",
    "        \n",
    "        self.resp_data = resp_data\n",
    "        \n",
    "        # should check if 'inlist', this just checks 'str'\n",
    "        \n",
    "        if isinstance(bin_data, str):\n",
    "            bin_dict = self.read_inlist(bin_data)\n",
    "        else: bin_dict = bin_data\n",
    "            \n",
    "        self.omega_orb = bin_dict['omega_orb']\n",
    "        self.a = bin_dict['a']\n",
    "        self.e = bin_dict['e']\n",
    "        \n",
    "        self.L1 = bin_dict['L1']\n",
    "        self.R1 = bin_dict['R1']\n",
    "        self.M1 = bin_dict['M1']\n",
    "        \n",
    "        self.L2 = bin_dict['L2']\n",
    "        self.R2 = bin_dict['R2']\n",
    "        self.M2 = bin_dict['M2']\n",
    "            \n",
    "            \n",
    "    def read_inlist(self, filename):\n",
    "        \n",
    "        inlist = nml.read(filename)\n",
    "        \n",
    "        data = {}\n",
    "            \n",
    "        def read_star(inlist, star_data, star_number):\n",
    "            \n",
    "            # this needs a better 'defaults' routine\n",
    "            # this also needs a more general handling of 'units' \n",
    "            \n",
    "            star_list = inlist[f'star{star_number}']\n",
    "            \n",
    "            star_data[f'Teff{star_number}'] = star_list['teff'] #K\n",
    "            star_data[f'logg{star_number}'] = star_list['logg'] #dex\n",
    "            \n",
    "            if star_list['lum_units']=='SOL':\n",
    "                lum_units = 3.839e33 #erg per l_sol\n",
    "            else: lum_units = 1\n",
    "                \n",
    "            if star_list['r_units']=='SOL':\n",
    "                r_units = 6.957e10 #cm per r_sol\n",
    "            else: r_units = 1\n",
    "                    \n",
    "            if star_list['m_units']=='SOL':\n",
    "                m_units = 1.989e33 #g per m_sol\n",
    "            else: m_units = 1\n",
    "            \n",
    "            star_data[f'L{star_number}'] = star_list['lum']*lum_units\n",
    "            star_data[f'R{star_number}'] = star_list['r']*r_units\n",
    "            star_data[f'M{star_number}'] = star_list['m']*m_units\n",
    "            \n",
    "        def read_orbit(inlist, orb_data):\n",
    "            \n",
    "            orb_list = inlist['orbit']\n",
    "            \n",
    "            #placeholder unit routine\n",
    "            \n",
    "            if orb_list['omega_orb_units']=='CYC_PER_DAY':\n",
    "                omega_orb_units = 1 \n",
    "            else: omega_orb_units = 1\n",
    "            \n",
    "            if orb_list['Omega_orb']=='DEFAULT':\n",
    "                orb_data['omega_orb'] = self.resp_data.data['Omega_orb']\n",
    "            else: orb_data['omega_orb'] = orb_list['omega_orb']\n",
    "                \n",
    "            orb_data['omega_orb'] *= omega_orb_units\n",
    "            \n",
    "            if orb_list['a_units']=='SOL':\n",
    "                a_units = 6.957e10 #cm per r_sol\n",
    "            else: a_units = 1\n",
    "                \n",
    "            orb_data['a'] = orb_list['a']*a_units\n",
    "            \n",
    "            orb_data['e'] = orb_list['e']\n",
    "            \n",
    "        read_star(inlist, data, 1)\n",
    "        read_star(inlist, data, 2)\n",
    "        read_orbit(inlist, data)\n",
    "        \n",
    "        return data"
   ]
  },
  {
   "cell_type": "code",
   "execution_count": 81,
   "metadata": {
    "ExecuteTime": {
     "end_time": "2020-09-16T15:24:59.829016Z",
     "start_time": "2020-09-16T15:24:58.657619Z"
    },
    "collapsed": true
   },
   "outputs": [],
   "source": [
    "class irradiation:\n",
    "    \n",
    "    def __init__ (self, atm_data, resp_data, bin_data, filter_x):\n",
    "    \n",
    "        self.atm_data = atm_data\n",
    "        self.resp_data = resp_data\n",
    "        self.x = filter_x\n",
    "        \n",
    "        self.omega_orb = bin_data.omega_orb\n",
    "        self.e = bin_data.e\n",
    "        self.a = bin_data.a\n",
    "        \n",
    "        self.L1 = bin_data.L1\n",
    "        self.R1 = bin_data.R1\n",
    "        \n",
    "        self.L2 = bin_data.L2\n",
    "        self.R2 = bin_data.R2\n",
    "        \n",
    "            \n",
    "            \n",
    "    def eval_ramp (self, l, m):\n",
    "        \n",
    "        term1 = 2* np.sqrt( ((2*l+1)/(4*np.pi)) \\\n",
    "                           *(np.math.factorial(l-m)/np.math.factorial(l+m)) )\n",
    "        \n",
    "        if (np.abs(m)==1):\n",
    "            term2 = np.pi/2\n",
    "        else:\n",
    "            term2 = np.cos(m*np.pi/2)/(1-m**2)\n",
    "        \n",
    "        # Can I do this integral using symbolic mu,\n",
    "        \n",
    "        term3, term3_err = integrate(lambda mu: np.sqrt(1-mu**2)*lpmv(m,l, mu), -1, 1)\n",
    "        \n",
    "        # or should I stick to integrating only those mu which I have data for?\n",
    "        Z_lm = term1*term2*term3\n",
    "        \n",
    "        return Z_lm\n",
    "    \n",
    "    \n",
    "    def find_disk_intg_factor (self, l):\n",
    "        \n",
    "        atm = self.atm_data\n",
    "        \n",
    "        # I still don't know if I need a bandpass correction, or if defining b_l\n",
    "        # using the bandpass corrected intensities (as I do here) is sufficient.\n",
    "    \n",
    "        b_l = atm.data[f'I_{self.x}_{l}'][:]/atm.data[f'I_{self.x}_0'][:]\n",
    "    \n",
    "        return b_l[0]\n",
    "        \n",
    "    \n",
    "    def find_mean_anom (self, t, t_peri=0):\n",
    "        \n",
    "        return self.omega_orb*(t - t_peri)\n",
    "        \n",
    "    \n",
    "    def find_ecce_anom (self, M):\n",
    "    \n",
    "        Keppler = lambda E : E - self.e*np.sin(E) - M\n",
    "        \n",
    "        return fsolve(Keppler, 0)[0]\n",
    "        \n",
    "    \n",
    "    def find_true_anom (self, E):\n",
    "    \n",
    "        return 2*np.arctan( ((1+self.e)/(1-self.e))*np.tan(E/2) )\n",
    "    \n",
    "    \n",
    "    def convert_t_to_f (self, t, t_peri=0):\n",
    "    \n",
    "        M = self.find_mean_anom(t, t_peri)\n",
    "        \n",
    "        E = self.find_ecce_anom(M)\n",
    "        \n",
    "        f = self.find_true_anom(E)\n",
    "        \n",
    "        return f\n",
    "    \n",
    "    \n",
    "    def find_bin_sep (self, t, t_peri=0):\n",
    "        \n",
    "        f = self.convert_t_to_f(t, t_peri)#* 2*np.pi\n",
    "        \n",
    "        D = self.a*(1-self.e**2)/(1+self.e*np.cos(f))\n",
    "        \n",
    "        return D\n",
    "    \n",
    "    \n",
    "    def eval_irrad (self, t, t_peri=0):\n",
    "        \n",
    "        Dt = self.find_bin_sep(t, t_peri)\n",
    "        \n",
    "        rel_dJ = np.zeros_like(t)\n",
    "        \n",
    "        n_l = self.resp_data.data['l_max']\n",
    "        \n",
    "        for l in range(2, n_l+1):\n",
    "            for m in range(-l, l+1):\n",
    "                \n",
    "                Z_lm = self.eval_ramp(l, m)\n",
    "                b_l = self.find_disk_intg_factor(l)\n",
    "                #rel_dJ += b_l*Z_lm*(self.L2/self.L1)*(self.R1/Dt)**2\n",
    "                rel_dJ += b_l*Z_lm*(self.L1/self.L2)*(self.R2/Dt)**2\n",
    "        \n",
    "        return rel_dJ\n",
    "        \n",
    "            #dJ/unperturbed_observed_flux \n",
    "            # = bandpass_correction_coefficient*(L2/L1)*(R1/D(t))**2\n",
    "            #   * disc_integral_factor_(Burkart_used_Eddington_limb_darkening)\n",
    "            "
   ]
  },
  {
   "cell_type": "code",
   "execution_count": 88,
   "metadata": {
    "ExecuteTime": {
     "end_time": "2020-09-16T15:26:35.713674Z",
     "start_time": "2020-09-16T15:26:34.350478Z"
    },
    "collapsed": true
   },
   "outputs": [],
   "source": [
    "class observer:\n",
    "    \n",
    "    def __init__ (self, resp_data, atm_data):\n",
    "    \n",
    "        self.resp_data = resp_data\n",
    "        self.atm_data = atm_data\n",
    "        #self.binary_data = binary_data\n",
    "    \n",
    "    \n",
    "    def convert_coords (self, inc, omega):\n",
    "\n",
    "        theta = inc/180 * np.pi\n",
    "        phi = (90-omega)/180 * np.pi\n",
    "        \n",
    "        return theta, phi\n",
    "            \n",
    "    \n",
    "    def eval_fourier (self, x, inc, omega):\n",
    "        \n",
    "        resp = self.resp_data\n",
    "        atm = self.atm_data\n",
    "        \n",
    "        theta, phi = self.convert_coords(inc, omega)\n",
    "        \n",
    "        # Initialize the frequencies/amplitudes arrays\n",
    "        \n",
    "        f = np.arange(resp.data['k_max']+1)*resp.data['Omega_orb']\n",
    "        \n",
    "        A = np.zeros(resp.data['k_max']+1, dtype=np.complex)\n",
    "            \n",
    "\n",
    "        # Loop over l, m and k\n",
    "        I = self.atm_data.data\n",
    "    \n",
    "        for l in range(2, resp.data['l_max']+1):\n",
    "            for m in range(-l, l+1):\n",
    "                for k in range(0, resp.data['k_max']+1):\n",
    "\n",
    "                    i_l = l\n",
    "                    i_m = m + resp.data['l_max']\n",
    "                    i_k = k\n",
    "\n",
    "                    dR_lmk = resp.R_lmk[i_l,i_m,i_k]\n",
    "                    dT_lmk = resp.T_lmk[i_l,i_m,i_k]\n",
    "                    dG_lmk = resp.G_lmk[i_l,i_m,i_k]\n",
    "\n",
    "                    Y_lm = sph_harm(m, l, phi, theta)\n",
    "                    \n",
    "                    #R_xl = atm.R_xl[x][l]\n",
    "                    #T_xl = atm.T_xl[x][l]\n",
    "                    #G_xl = atm.T_xl[x][l]\n",
    "                    \n",
    "                    R_xl = (2 + l)*(1 - l)*I[f'I_{x}_{l}'][:] / I[f'I_{x}_0'][:]\n",
    "                    T_xl = I[f'dlnTeff_{x}_{l}'][:] / I[f'I_{x}_0'][:] \n",
    "                    G_xl = I[f'dlng_{x}_{l}'][:] / I[f'I_{x}_0'][:]\n",
    "                    \n",
    "                    #print(f'T_{x}{l}: ', T_xl, type(T_xl))\n",
    "                    #print(f'stored: ', atm.T_xl[x][l], type(atm.T_xl[x][l]))\n",
    "                    \n",
    "                    if k == 0:\n",
    "                        if m == 0:\n",
    "                            kappa = 0.5\n",
    "                        elif m >= 1:\n",
    "                            kappa = 1.\n",
    "                        else:\n",
    "                            kappa = 0.\n",
    "                    else:\n",
    "                        kappa = 1.\n",
    "    \n",
    "                    # Add the Fourier contribution * spherical harmonic\n",
    "                    \n",
    "                    A[i_k] += 2*kappa*(dR_lmk*R_xl + dT_lmk*T_xl + dG_lmk*G_xl)*Y_lm\n",
    "        \n",
    "        # Return data\n",
    "        \n",
    "        return f, A\n",
    "    \n",
    "\n",
    "    def find_flux (self, x, inc, omega, t):\n",
    "        \n",
    "        resp = self.resp_data\n",
    "        Omega_orb = resp.data['Omega_orb']\n",
    "        \n",
    "        f, A = self.eval_fourier(x, inc, omega)\n",
    "        \n",
    "        # Initialize the frequencies/amplitudes arrays\n",
    "        \n",
    "        if isinstance(t, np.ndarray):\n",
    "            \n",
    "            diff_flux = np.zeros_like(t)\n",
    "        \n",
    "        elif isinstance(t, list):\n",
    "            \n",
    "            t = np.array(t)\n",
    "            diff_flux = np.zeros_like(t)\n",
    "            \n",
    "        else: #How to isinstance any mathable t? float, int, etc?\n",
    "            \n",
    "            diff_flux = 0.\n",
    "\n",
    "        # Add contributions from each frequency component\n",
    "\n",
    "        n_A = len(A)\n",
    "\n",
    "        for i in range(n_A):\n",
    "            \n",
    "            diff_flux += np.real(A[i] * np.exp(1j*f[i]*2*np.pi*t))\n",
    "            \n",
    "        return diff_flux\n",
    "    \n"
   ]
  },
  {
   "cell_type": "code",
   "execution_count": 89,
   "metadata": {
    "ExecuteTime": {
     "end_time": "2020-09-16T15:26:37.306099Z",
     "start_time": "2020-09-16T15:26:36.343965Z"
    },
    "collapsed": true
   },
   "outputs": [],
   "source": [
    "resp = rd.resp_coeffs('../gyre_run/response.001.h5')\n",
    "atm = atm_coeffs('iOri-partials-2.h5', 'partials.in')\n",
    "bin_iori = binary(resp, 'bin_params.in')\n",
    "irr = ir.irradiation(atm, resp, bin_iori, 'BRITE-B')"
   ]
  },
  {
   "cell_type": "code",
   "execution_count": 91,
   "metadata": {
    "ExecuteTime": {
     "end_time": "2020-09-16T15:26:58.530985Z",
     "start_time": "2020-09-16T15:26:54.201952Z"
    }
   },
   "outputs": [
    {
     "data": {
      "text/plain": [
       "0.00095321982241271632"
      ]
     },
     "execution_count": 91,
     "metadata": {},
     "output_type": "execute_result"
    }
   ],
   "source": [
    "inc = 62.9\n",
    "omega = 122.2\n",
    "\n",
    "obs = observer(resp, atm)\n",
    "obs.find_flux('BRITE-B', inc,omega, -2.2)"
   ]
  },
  {
   "cell_type": "code",
   "execution_count": 92,
   "metadata": {
    "ExecuteTime": {
     "end_time": "2020-09-16T15:26:59.205012Z",
     "start_time": "2020-09-16T15:26:59.193157Z"
    },
    "collapsed": true
   },
   "outputs": [],
   "source": [
    "t = np.linspace(-0.2/omega_orb, 2.2/omega_orb, 2001)"
   ]
  },
  {
   "cell_type": "code",
   "execution_count": 93,
   "metadata": {
    "ExecuteTime": {
     "end_time": "2020-09-16T15:26:59.826045Z",
     "start_time": "2020-09-16T15:26:59.753476Z"
    }
   },
   "outputs": [
    {
     "ename": "NameError",
     "evalue": "name 'fsolve' is not defined",
     "output_type": "error",
     "traceback": [
      "\u001b[0;31m---------------------------------------------------------------------------\u001b[0m",
      "\u001b[0;31mNameError\u001b[0m                                 Traceback (most recent call last)",
      "\u001b[0;32m<ipython-input-93-7865fe6f95b5>\u001b[0m in \u001b[0;36m<module>\u001b[0;34m()\u001b[0m\n\u001b[0;32m----> 1\u001b[0;31m \u001b[0mrefl_1on2\u001b[0m \u001b[0;34m=\u001b[0m \u001b[0mnp\u001b[0m\u001b[0;34m.\u001b[0m\u001b[0marray\u001b[0m\u001b[0;34m(\u001b[0m\u001b[0;34m[\u001b[0m\u001b[0mirr\u001b[0m\u001b[0;34m.\u001b[0m\u001b[0meval_irrad\u001b[0m\u001b[0;34m(\u001b[0m\u001b[0mtau\u001b[0m\u001b[0;34m,\u001b[0m \u001b[0;36m1.0\u001b[0m\u001b[0;34m/\u001b[0m\u001b[0momega_orb\u001b[0m\u001b[0;34m)\u001b[0m \u001b[0;32mfor\u001b[0m \u001b[0mtau\u001b[0m \u001b[0;32min\u001b[0m \u001b[0mt\u001b[0m\u001b[0;34m]\u001b[0m\u001b[0;34m)\u001b[0m\u001b[0;34m\u001b[0m\u001b[0m\n\u001b[0m",
      "\u001b[0;32m<ipython-input-93-7865fe6f95b5>\u001b[0m in \u001b[0;36m<listcomp>\u001b[0;34m(.0)\u001b[0m\n\u001b[0;32m----> 1\u001b[0;31m \u001b[0mrefl_1on2\u001b[0m \u001b[0;34m=\u001b[0m \u001b[0mnp\u001b[0m\u001b[0;34m.\u001b[0m\u001b[0marray\u001b[0m\u001b[0;34m(\u001b[0m\u001b[0;34m[\u001b[0m\u001b[0mirr\u001b[0m\u001b[0;34m.\u001b[0m\u001b[0meval_irrad\u001b[0m\u001b[0;34m(\u001b[0m\u001b[0mtau\u001b[0m\u001b[0;34m,\u001b[0m \u001b[0;36m1.0\u001b[0m\u001b[0;34m/\u001b[0m\u001b[0momega_orb\u001b[0m\u001b[0;34m)\u001b[0m \u001b[0;32mfor\u001b[0m \u001b[0mtau\u001b[0m \u001b[0;32min\u001b[0m \u001b[0mt\u001b[0m\u001b[0;34m]\u001b[0m\u001b[0;34m)\u001b[0m\u001b[0;34m\u001b[0m\u001b[0m\n\u001b[0m",
      "\u001b[0;32m~/madstar/tlusty-master/work.legendre-flux/plot/irrad_func.py\u001b[0m in \u001b[0;36meval_irrad\u001b[0;34m(self, t, t_peri)\u001b[0m\n\u001b[1;32m     97\u001b[0m \u001b[0;34m\u001b[0m\u001b[0m\n\u001b[1;32m     98\u001b[0m     \u001b[0;32mdef\u001b[0m \u001b[0meval_irrad\u001b[0m \u001b[0;34m(\u001b[0m\u001b[0mself\u001b[0m\u001b[0;34m,\u001b[0m \u001b[0mt\u001b[0m\u001b[0;34m,\u001b[0m \u001b[0mt_peri\u001b[0m\u001b[0;34m=\u001b[0m\u001b[0;36m0\u001b[0m\u001b[0;34m)\u001b[0m\u001b[0;34m:\u001b[0m\u001b[0;34m\u001b[0m\u001b[0m\n\u001b[0;32m---> 99\u001b[0;31m \u001b[0;34m\u001b[0m\u001b[0m\n\u001b[0m\u001b[1;32m    100\u001b[0m         \u001b[0mDt\u001b[0m \u001b[0;34m=\u001b[0m \u001b[0mself\u001b[0m\u001b[0;34m.\u001b[0m\u001b[0mfind_bin_sep\u001b[0m\u001b[0;34m(\u001b[0m\u001b[0mt\u001b[0m\u001b[0;34m,\u001b[0m \u001b[0mt_peri\u001b[0m\u001b[0;34m)\u001b[0m\u001b[0;34m\u001b[0m\u001b[0m\n\u001b[1;32m    101\u001b[0m \u001b[0;34m\u001b[0m\u001b[0m\n",
      "\u001b[0;32m~/madstar/tlusty-master/work.legendre-flux/plot/irrad_func.py\u001b[0m in \u001b[0;36mfind_bin_sep\u001b[0;34m(self, t, t_peri)\u001b[0m\n\u001b[1;32m     88\u001b[0m \u001b[0;34m\u001b[0m\u001b[0m\n\u001b[1;32m     89\u001b[0m     \u001b[0;32mdef\u001b[0m \u001b[0mfind_bin_sep\u001b[0m \u001b[0;34m(\u001b[0m\u001b[0mself\u001b[0m\u001b[0;34m,\u001b[0m \u001b[0mt\u001b[0m\u001b[0;34m,\u001b[0m \u001b[0mt_peri\u001b[0m\u001b[0;34m=\u001b[0m\u001b[0;36m0\u001b[0m\u001b[0;34m)\u001b[0m\u001b[0;34m:\u001b[0m\u001b[0;34m\u001b[0m\u001b[0m\n\u001b[0;32m---> 90\u001b[0;31m \u001b[0;34m\u001b[0m\u001b[0m\n\u001b[0m\u001b[1;32m     91\u001b[0m         \u001b[0mf\u001b[0m \u001b[0;34m=\u001b[0m \u001b[0mself\u001b[0m\u001b[0;34m.\u001b[0m\u001b[0mconvert_t_to_f\u001b[0m\u001b[0;34m(\u001b[0m\u001b[0mt\u001b[0m\u001b[0;34m,\u001b[0m \u001b[0mt_peri\u001b[0m\u001b[0;34m)\u001b[0m\u001b[0;31m#* 2*np.pi\u001b[0m\u001b[0;34m\u001b[0m\u001b[0m\n\u001b[1;32m     92\u001b[0m \u001b[0;34m\u001b[0m\u001b[0m\n",
      "\u001b[0;32m~/madstar/tlusty-master/work.legendre-flux/plot/irrad_func.py\u001b[0m in \u001b[0;36mconvert_t_to_f\u001b[0;34m(self, t, t_peri)\u001b[0m\n\u001b[1;32m     79\u001b[0m \u001b[0;34m\u001b[0m\u001b[0m\n\u001b[1;32m     80\u001b[0m         \u001b[0mM\u001b[0m \u001b[0;34m=\u001b[0m \u001b[0mself\u001b[0m\u001b[0;34m.\u001b[0m\u001b[0mfind_mean_anom\u001b[0m\u001b[0;34m(\u001b[0m\u001b[0mt\u001b[0m\u001b[0;34m,\u001b[0m \u001b[0mt_peri\u001b[0m\u001b[0;34m)\u001b[0m\u001b[0;34m\u001b[0m\u001b[0m\n\u001b[0;32m---> 81\u001b[0;31m \u001b[0;34m\u001b[0m\u001b[0m\n\u001b[0m\u001b[1;32m     82\u001b[0m         \u001b[0mE\u001b[0m \u001b[0;34m=\u001b[0m \u001b[0mself\u001b[0m\u001b[0;34m.\u001b[0m\u001b[0mfind_ecce_anom\u001b[0m\u001b[0;34m(\u001b[0m\u001b[0mM\u001b[0m\u001b[0;34m)\u001b[0m\u001b[0;34m\u001b[0m\u001b[0m\n\u001b[1;32m     83\u001b[0m \u001b[0;34m\u001b[0m\u001b[0m\n",
      "\u001b[0;32m~/madstar/tlusty-master/work.legendre-flux/plot/irrad_func.py\u001b[0m in \u001b[0;36mfind_ecce_anom\u001b[0;34m(self, M)\u001b[0m\n\u001b[1;32m     67\u001b[0m \u001b[0;34m\u001b[0m\u001b[0m\n\u001b[1;32m     68\u001b[0m         \u001b[0mKeppler\u001b[0m \u001b[0;34m=\u001b[0m \u001b[0;32mlambda\u001b[0m \u001b[0mE\u001b[0m \u001b[0;34m:\u001b[0m \u001b[0mE\u001b[0m \u001b[0;34m-\u001b[0m \u001b[0mself\u001b[0m\u001b[0;34m.\u001b[0m\u001b[0me\u001b[0m\u001b[0;34m*\u001b[0m\u001b[0mnp\u001b[0m\u001b[0;34m.\u001b[0m\u001b[0msin\u001b[0m\u001b[0;34m(\u001b[0m\u001b[0mE\u001b[0m\u001b[0;34m)\u001b[0m \u001b[0;34m-\u001b[0m \u001b[0mM\u001b[0m\u001b[0;34m\u001b[0m\u001b[0m\n\u001b[0;32m---> 69\u001b[0;31m \u001b[0;34m\u001b[0m\u001b[0m\n\u001b[0m\u001b[1;32m     70\u001b[0m         \u001b[0;32mreturn\u001b[0m \u001b[0mfsolve\u001b[0m\u001b[0;34m(\u001b[0m\u001b[0mKeppler\u001b[0m\u001b[0;34m,\u001b[0m \u001b[0;36m0\u001b[0m\u001b[0;34m)\u001b[0m\u001b[0;34m[\u001b[0m\u001b[0;36m0\u001b[0m\u001b[0;34m]\u001b[0m\u001b[0;34m\u001b[0m\u001b[0m\n\u001b[1;32m     71\u001b[0m \u001b[0;34m\u001b[0m\u001b[0m\n",
      "\u001b[0;31mNameError\u001b[0m: name 'fsolve' is not defined"
     ]
    }
   ],
   "source": [
    "refl_1on2 = np.array([irr.eval_irrad(tau, 1.0/omega_orb) for tau in t])"
   ]
  },
  {
   "cell_type": "code",
   "execution_count": 29,
   "metadata": {
    "ExecuteTime": {
     "end_time": "2020-09-14T16:32:21.322847Z",
     "start_time": "2020-09-14T16:32:18.229709Z"
    }
   },
   "outputs": [
    {
     "data": {
      "image/png": "[encoded data removed]",
      "text/plain": [
       "<matplotlib.figure.Figure at 0x7ff9abeb5c50>"
      ]
     },
     "metadata": {},
     "output_type": "display_data"
    }
   ],
   "source": [
    "# Evaluate fourier terms\n",
    "B = 'BRITE-B'\n",
    "omega_orb = obs.resp_data.data['Omega_orb']\n",
    "\n",
    "t = np.linspace(-0.2/omega_orb, 2.2/omega_orb, 2001)\n",
    "\n",
    "flux = obs.find_flux(B, inc, omega, t)\n",
    "\n",
    "\n",
    "fig, ax = plt.subplots( figsize=(4.5,4), dpi=100)\n",
    "\n",
    "ax.plot(t*omega_orb, (flux+refl_1on2 + 1.0)*1000, c='C1', lw=1, label=B)\n",
    "\n",
    "ax.set_ylabel(r'Relative Flux Perturbation ($\\times 1000$)')\n",
    "ax.set_xlabel(f\"phase (P={1./omega_orb:4.4f} d)\")\n",
    "\n",
    "\n",
    "ax.set_xlim(0.5,1.5)\n",
    "ax.set_ylim(0.93*1000,1.09*1000)\n",
    "\n",
    "ax.legend()\n",
    "\n",
    "ax.set_title(f'$\\iota$Ori')\n",
    "fig.tight_layout()\n",
    "fig.savefig(f'iOri_reflection_1on2.png')"
   ]
  },
  {
   "cell_type": "code",
   "execution_count": 131,
   "metadata": {
    "collapsed": true
   },
   "outputs": [],
   "source": [
    "D = np.array([irr.find_bin_sep(tau) for tau in t])/6.957e10"
   ]
  },
  {
   "cell_type": "code",
   "execution_count": 132,
   "metadata": {
    "scrolled": true
   },
   "outputs": [
    {
     "data": {
      "text/plain": [
       "(0.5, 1.5)"
      ]
     },
     "execution_count": 132,
     "metadata": {},
     "output_type": "execute_result"
    },
    {
     "data": {
      "image/png": "[encoded data removed]",
      "text/plain": [
       "<matplotlib.figure.Figure at 0x7fb0a1c11cc0>"
      ]
     },
     "metadata": {},
     "output_type": "display_data"
    }
   ],
   "source": [
    "fig, ax = plt.subplots( figsize=(4.5,4), dpi=100)\n",
    "\n",
    "ax.plot( t*omega_orb/(2*np.pi), D, c='C1', lw=1)\n",
    "\n",
    "ax.set_xlim(0.5,1.5)"
   ]
  },
  {
   "cell_type": "markdown",
   "metadata": {},
   "source": [
    "### The Case Without Rotation"
   ]
  },
  {
   "cell_type": "code",
   "execution_count": 11,
   "metadata": {
    "collapsed": true
   },
   "outputs": [],
   "source": [
    "def read_response(filename):\n",
    "    \n",
    "    # Read data from gyre_response\n",
    "    \n",
    "    f = h5py.File(filename, 'r')\n",
    "        \n",
    "    xi_r_ref_re = f['xi_r']['re'][...]\n",
    "    xi_r_ref_im = f['xi_r']['im'][...]\n",
    "        \n",
    "    lag_L_ref_re = f['lag_L']['re'][...]\n",
    "    lag_L_ref_im = f['lag_L']['im'][...]\n",
    "    \n",
    "    k_max = f.attrs['k_max']\n",
    "    l_max = f.attrs['l_max']\n",
    "    \n",
    "    Omega_rot = f.attrs['Omega_rot']\n",
    "    Omega_orb = f.attrs['Omega_orb']\n",
    "    \n",
    "    f.close()\n",
    "    \n",
    "    return {'xi_r_ref': xi_r_ref_re + 1j*xi_r_ref_im,\n",
    "            'lag_L_ref': lag_L_ref_re + 1j*lag_L_ref_im,\n",
    "            'k_max': k_max,\n",
    "            'l_max': l_max,\n",
    "            'Omega_rot': Omega_rot,\n",
    "            'Omega_orb': Omega_orb}"
   ]
  },
  {
   "cell_type": "code",
   "execution_count": 12,
   "metadata": {
    "collapsed": true
   },
   "outputs": [],
   "source": [
    "def Delta_R(data, i_l,i_m,i_k):\n",
    "\n",
    "    return np.sqrt(4.*np.pi) * data['xi_r_ref'][i_k,i_m,i_l]\n",
    "    \n",
    "    \n",
    "def Delta_T(data, i_l,i_m,i_k):\n",
    "        \n",
    "    xi_r_ref = data['xi_r_ref'][i_k,i_m,i_l]\n",
    "    \n",
    "    lag_L_ref = data['lag_L_ref'][i_k,i_m,i_l]\n",
    "    \n",
    "    return np.sqrt(4.*np.pi)*(lag_L_ref - 2*xi_r_ref)/4.\n",
    "  \n",
    "\n",
    "def Delta_G(data, i_l,i_m,i_k, m,k):\n",
    "    \n",
    "    xi_r_ref = data['xi_r_ref'][i_k,i_m,i_l]\n",
    "    \n",
    "    omega = -k*data['Omega_orb'] - m*data['Omega_rot']\n",
    "    \n",
    "    return np.sqrt(4*np.pi)*(-omega**2 - 2)*xi_r_ref"
   ]
  },
  {
   "cell_type": "code",
   "execution_count": 13,
   "metadata": {
    "collapsed": true
   },
   "outputs": [],
   "source": [
    "def R_lm(l,m, phi,theta, I,x):\n",
    "    \n",
    "    Rlm = (2 + l)*(1 - l)*I[f'I_{x}_{l}'][:] / I[f'I_{x}_0'][:]\n",
    "    \n",
    "    Y = sph_harm(m,l, phi,theta)\n",
    "    \n",
    "    return Rlm[0]*Y\n",
    "\n",
    "\n",
    "def T_lm(l,m, phi,theta, I,dI,x):\n",
    "    \n",
    "    Tlm = dI[f'dlnTeff_{x}_{l}'][:] / I[f'I_{x}_0'][:]\n",
    "    \n",
    "    Y = sph_harm(m,l, phi,theta)\n",
    "    \n",
    "    return Tlm[0]*Y\n",
    "\n",
    "\n",
    "def G_lm(l,m, phi,theta, I,dI,x):\n",
    "    \n",
    "    Glm = dI[f'dlng_{x}_{l}'][:] / I[f'I_{x}_0'][:]\n",
    "    \n",
    "    Y = sph_harm(m,l, phi,theta)\n",
    "    \n",
    "    return Glm[0]*Y"
   ]
  },
  {
   "cell_type": "code",
   "execution_count": 14,
   "metadata": {
    "collapsed": true
   },
   "outputs": [],
   "source": [
    "def eval_fourier (data, I,dI,x, theta_0, phi_0, terms=False):\n",
    "\n",
    "    # Initialize the frequencies/amplitudes arrays\n",
    "    f = np.arange(data['k_max']+1)*data['Omega_orb']\n",
    "    A = np.zeros(data['k_max']+1, dtype=np.complex)\n",
    "    \n",
    "    if terms==True:\n",
    "        A_R = np.zeros(data['k_max']+1, dtype=np.complex)\n",
    "        A_T = np.zeros(data['k_max']+1, dtype=np.complex)\n",
    "        A_G = np.zeros(data['k_max']+1, dtype=np.complex)\n",
    "\n",
    "    # Loop over l, m and k\n",
    "    \n",
    "    for l in range(2, data['l_max']+1):\n",
    "        for m in range(-l, l+1):\n",
    "            for k in range(0, data['k_max']+1):\n",
    "\n",
    "                i_l = l\n",
    "                i_m = m + data['l_max']\n",
    "                i_k = k\n",
    "\n",
    "                Del_R = Delta_R(data, i_l,i_m,i_k)\n",
    "                Del_T = Delta_T(data, i_l,i_m,i_k)\n",
    "                Del_G = Delta_G(data, i_l,i_m,i_k, m,k)\n",
    "\n",
    "                Yml = sph_harm(m, l, phi_0, theta_0)\n",
    "\n",
    "                Rml = (2 + l)*(1 - l)*I[f'I_{x}_{l}'][:] / I[f'I_{x}_0'][:] * Yml\n",
    "                Tml = dI[f'dlnTeff_{x}_{l}'][:] / I[f'I_{x}_0'][:] * Yml\n",
    "                Gml = dI[f'dlng_{x}_{l}'][:] / I[f'I_{x}_0'][:] * Yml\n",
    "                \n",
    "                if k == 0:\n",
    "                    if m == 0:\n",
    "                        kappa = 0.5\n",
    "                    elif m >= 1:\n",
    "                        kappa = 1.\n",
    "                    else:\n",
    "                        kappa = 0.\n",
    "                else:\n",
    "                    kappa = 1.\n",
    "\n",
    "                # Add the Fourier contribution\n",
    "                \n",
    "                A[i_k] += 2*kappa*(Del_R*Rml + Del_T*Tml + Del_G*Gml)\n",
    "                \n",
    "                if terms==True:\n",
    "                    A_R[i_k] += 2*kappa * Del_R*Rml\n",
    "                    A_T[i_k] += 2*kappa * Del_T*Tml\n",
    "                    A_G[i_k] += 2*kappa* Del_G*Gml\n",
    "        \n",
    "    # Return data\n",
    "    if terms==True:\n",
    "        return f, A_R, A_T, A_G\n",
    "    else:\n",
    "        return f, A"
   ]
  },
  {
   "cell_type": "markdown",
   "metadata": {},
   "source": [
    "# iOri , a binary"
   ]
  },
  {
   "cell_type": "code",
   "execution_count": 15,
   "metadata": {
    "collapsed": true
   },
   "outputs": [],
   "source": [
    "I = h5py.File('iOri-partials-2.h5','r')\n",
    "dI = h5py.File('iOri-partials-2.h5','r')"
   ]
  },
  {
   "cell_type": "code",
   "execution_count": 16,
   "metadata": {
    "collapsed": true
   },
   "outputs": [],
   "source": [
    "gyre_data = read_response(\"../gyre_run/response.001.h5\")\n",
    "\n",
    "l_max = gyre_data['l_max']\n",
    "k_max = gyre_data['k_max']\n",
    "\n",
    "omega_orb = gyre_data['Omega_orb']\n",
    "\n",
    "inc = 62.9\n",
    "omega = 122.2\n",
    "\n",
    "theta = inc/180 * np.pi\n",
    "phi = (90-omega)/180 * np.pi"
   ]
  },
  {
   "cell_type": "code",
   "execution_count": 18,
   "metadata": {},
   "outputs": [
    {
     "data": {
      "image/png": "[encoded data removed]",
      "text/plain": [
       "<matplotlib.figure.Figure at 0x7f92da7a7da0>"
      ]
     },
     "metadata": {},
     "output_type": "display_data"
    }
   ],
   "source": [
    "# Evaluate fourier terms\n",
    "B,R='BRITE-B','BRITE-R'\n",
    "t = np.linspace(-0.2/omega_orb, 2.2/omega_orb, 2001)\n",
    "\n",
    "f, A_B = eval_fourier(gyre_data, I,dI,B, theta,phi, terms=False)\n",
    "#_, A_R = eval_fourier(gyre_data, I,dI,R, theta,phi, terms=False)\n",
    "\n",
    "# Initialize the frequencies/amplitudes arrays\n",
    "\n",
    "diff_flux_B = np.zeros_like(t)\n",
    "#diff_flux_R = np.zeros_like(t)\n",
    "\n",
    "# Add contributions from each frequency component\n",
    "\n",
    "n_A = len(A_B)\n",
    "\n",
    "for i in range(n_A):\n",
    "\n",
    "    diff_flux_B += np.real(A_B[i] * np.exp(1j*f[i]*2*np.pi*t))\n",
    "#    diff_flux_R += np.real(A_R[i] * np.exp(1j*f[i]*2*np.pi*t))\n",
    "\n",
    "\n",
    "fig, ax = plt.subplots( figsize=(4.5,4), dpi=100)\n",
    "\n",
    "\n",
    "ax.plot(t*omega_orb, (diff_flux_B + 1.03)*1000, c='C0', lw=1, label='BRITE-B')\n",
    "\n",
    "#ax.plot(t*omega_orb, (diff_flux_R + 1.0)*1000, c='C3', lw=1, label='BRITE-R')\n",
    "\n",
    "ax.set_ylabel(r'Relative Flux Perturbation ($\\times 1000$)')\n",
    "ax.set_xlabel(f\"phase (P={1./gyre_data['Omega_orb']:4.4f} d)\")\n",
    "\n",
    "ax.set_xlim(0.5,1.5)\n",
    "ax.set_ylim(0.96*1000,1.12*1000)\n",
    "\n",
    "#ax.legend()\n",
    "\n",
    "ax.set_title(f'$\\iota$Ori')\n",
    "fig.tight_layout()\n",
    "fig.savefig(f'iOri_concept.png')"
   ]
  },
  {
   "cell_type": "markdown",
   "metadata": {},
   "source": [
    "### Synthetic BRITE Lightcurve"
   ]
  },
  {
   "cell_type": "code",
   "execution_count": null,
   "metadata": {
    "collapsed": true
   },
   "outputs": [],
   "source": [
    "# Evaluate fourier terms\n",
    "B,R='BRITE-B','BRITE-R'\n",
    "t = np.linspace(-0.2/omega_orb, 2.2/omega_orb, 1001)\n",
    "\n",
    "f, A_B = eval_fourier(gyre_data, I,dI,B, theta,phi)\n",
    "_, A_R = eval_fourier(gyre_data, I,dI,R, theta,phi)\n",
    "\n",
    "# Initialize the frequencies/amplitudes arrays\n",
    "\n",
    "diff_flux_B = np.zeros_like(t)\n",
    "diff_flux_R = np.zeros_like(t)\n",
    "\n",
    "# Add contributions from each frequency component\n",
    "\n",
    "n_A = len(A_B)\n",
    "\n",
    "for i in range(n_A):\n",
    "\n",
    "    diff_flux_B += np.real(A_B[i] * np.exp(1j*f[i]*2*np.pi*t))\n",
    "    \n",
    "    diff_flux_R += np.real(A_R[i] * np.exp(1j*f[i]*2*np.pi*t))\n",
    "\n",
    "\n",
    "fig, ax = plt.subplots( figsize=(8,4), dpi=300)\n",
    "\n",
    "ax.plot(t*omega_orb, diff_flux_B + 1.03, c='C0', lw=1, label='BRITE-B')\n",
    "\n",
    "ax.plot(t*omega_orb, diff_flux_R + 1.0, c='C3', lw=1, label='BRITE-R')\n",
    "\n",
    "ax.set_ylabel('amplitude')\n",
    "ax.set_xlabel(f\"phase (P={1./gyre_data['Omega_orb']:4.4f} d)\")\n",
    "\n",
    "ax.set_xlim(0.6,1.6)\n",
    "ax.set_ylim(0.96,1.12)\n",
    "\n",
    "ax.legend()\n",
    "\n",
    "ax.set_title(f'$\\iota$Ori synthetic lightcurve')\n",
    "fig.savefig(f'iOri_synBRITE.png')"
   ]
  },
  {
   "cell_type": "markdown",
   "metadata": {},
   "source": [
    "### Inter-term Cancellation"
   ]
  },
  {
   "cell_type": "code",
   "execution_count": null,
   "metadata": {
    "collapsed": true
   },
   "outputs": [],
   "source": [
    "# Evaluate fourier terms\n",
    "B,R='BRITE-B','BRITE-R'\n",
    "t = np.linspace(-0.2/omega_orb, 2.2/omega_orb, 1001)\n",
    "\n",
    "f, A_R, A_T,_ = eval_fourier(gyre_data, I,dI,B, theta,phi, terms=True)\n",
    "\n",
    "# Initialize the frequencies/amplitudes arrays\n",
    "\n",
    "diff_flux_R = np.zeros_like(t)\n",
    "diff_flux_T = np.zeros_like(t)\n",
    "\n",
    "# Add contributions from each frequency component\n",
    "\n",
    "n_A = len(A_R)\n",
    "\n",
    "for i in [2]:\n",
    "\n",
    "    diff_flux_R += np.real(A_R[i] * np.exp(1j*f[i]*2*np.pi*t))\n",
    "    diff_flux_T += np.real(A_T[i] * np.exp(1j*f[i]*2*np.pi*t))\n",
    "\n",
    "\n",
    "fig, ax = plt.subplots( figsize=(8,4), dpi=100)\n",
    "\n",
    "ax.plot(t*omega_orb, diff_flux_R, c='C1', lw=1, label=r'$\\mathcal{R}$')\n",
    "\n",
    "ax.plot(t*omega_orb, diff_flux_T, c='C2', lw=1, label=r'$\\mathcal{T}$')\n",
    "\n",
    "ax.set_ylabel('amplitude')\n",
    "ax.set_xlabel(f\"phase (P={1./gyre_data['Omega_orb']:4.4f} d)\")\n",
    "\n",
    "ax.set_xlim(0.,1.)\n",
    "\n",
    "ax.legend()\n",
    "\n",
    "ax.set_title(f'$\\iota$Ori U flux terms')\n",
    "fig.savefig(f'iOri_U_dff_xx{3}.png')"
   ]
  },
  {
   "cell_type": "markdown",
   "metadata": {},
   "source": [
    "### color-moments"
   ]
  },
  {
   "cell_type": "code",
   "execution_count": 33,
   "metadata": {},
   "outputs": [
    {
     "data": {
      "image/png": "[encoded data removed]",
      "text/plain": [
       "<matplotlib.figure.Figure at 0x1a14924240>"
      ]
     },
     "metadata": {},
     "output_type": "display_data"
    }
   ],
   "source": [
    "# Plot the results\n",
    "fig, ax = plt.subplots( figsize=(5,4), dpi=100)\n",
    "\n",
    "stepsize = 1\n",
    "lw = 1\n",
    "\n",
    "ax.plot([i for i in [0,2,4]], [spec[f'I_U_{i}'][:] for i in [0,2,4]]\n",
    "        , label=r'U' , c='C0', lw=lw)\n",
    "ax.plot([i for i in [0,2,4]], [spec[f'I_B_{i}'][:] for i in [0,2,4]]\n",
    "        , label=r'B' , c='C1', lw=lw)\n",
    "ax.plot([i for i in [0,2,4]], [spec[f'I_V_{i}'][:] for i in [0,2,4]]\n",
    "        , label=r'V' , c='C2', lw=lw)\n",
    "\n",
    "ax.set_xlabel(r'moment, l')\n",
    "ax.set_ylabel(r'color intensity, I$_{x;l}$ [erg cm$^{-2}$ s$^{-1}$]')\n",
    "\n",
    "ax.set_xlim(-1,5)\n",
    "\n",
    "ax.legend()\n",
    "\n",
    "#ax.set_title(r'Rotational Broadening')\n",
    "\n",
    "fig.tight_layout()\n",
    "fig.savefig('moment-vs-color-vrot10.png')"
   ]
  },
  {
   "cell_type": "code",
   "execution_count": 44,
   "metadata": {
    "collapsed": true
   },
   "outputs": [],
   "source": [
    "if spec.__bool__():\n",
    "       spec.close()\n",
    "if spvr.__bool__():\n",
    "       spvr.close()\n"
   ]
  },
  {
   "cell_type": "markdown",
   "metadata": {},
   "source": [
    "<b> Calculate Specific Flux </b>\n",
    "\n",
    "$F_{\\lambda}(d) = 2 \\pi \\cdot \\frac{R_{\\star}^2}{d^2} \\int_0^1 I_{\\lambda}(\\mu) d\\mu$\n",
    "\n",
    "$\\rightarrow F_{\\lambda}= 2 \\pi \\int_0^1 I_{\\lambda}(\\mu) d\\mu$"
   ]
  },
  {
   "cell_type": "markdown",
   "metadata": {
    "heading_collapsed": true
   },
   "source": [
    "## Alnitak"
   ]
  },
  {
   "cell_type": "markdown",
   "metadata": {
    "hidden": true
   },
   "source": [
    "https://arxiv.org/pdf/1306.0330.pdf"
   ]
  }
 ],
 "metadata": {
  "kernelspec": {
   "display_name": "Python 3",
   "language": "python",
   "name": "python3"
  },
  "language_info": {
   "codemirror_mode": {
    "name": "ipython",
    "version": 3
   },
   "file_extension": ".py",
   "mimetype": "text/x-python",
   "name": "python",
   "nbconvert_exporter": "python",
   "pygments_lexer": "ipython3",
   "version": "3.6.4"
  },
  "toc": {
   "base_numbering": 1,
   "nav_menu": {},
   "number_sections": true,
   "sideBar": true,
   "skip_h1_title": false,
   "title_cell": "Table of Contents",
   "title_sidebar": "Contents",
   "toc_cell": false,
   "toc_position": {},
   "toc_section_display": true,
   "toc_window_display": false
  },
  "varInspector": {
   "cols": {
    "lenName": 16,
    "lenType": 16,
    "lenVar": 40
   },
   "kernels_config": {
    "python": {
     "delete_cmd_postfix": "",
     "delete_cmd_prefix": "del ",
     "library": "var_list.py",
     "varRefreshCmd": "print(var_dic_list())"
    },
    "r": {
     "delete_cmd_postfix": ") ",
     "delete_cmd_prefix": "rm(",
     "library": "var_list.r",
     "varRefreshCmd": "cat(var_dic_list()) "
    }
   },
   "types_to_exclude": [
    "module",
    "function",
    "builtin_function_or_method",
    "instance",
    "_Feature"
   ],
   "window_display": false
  }
 },
 "nbformat": 4,
 "nbformat_minor": 2
}
